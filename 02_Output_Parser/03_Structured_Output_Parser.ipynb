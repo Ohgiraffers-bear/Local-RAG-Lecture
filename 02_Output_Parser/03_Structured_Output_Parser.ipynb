{
 "cells": [
  {
   "cell_type": "markdown",
   "id": "73b45ec4",
   "metadata": {
    "vscode": {
     "languageId": "raw"
    }
   },
   "source": [
    "## Structured Output Parser\n",
    "`Structured Output Parser`란?\n",
    "- LLM의 출력을 구조화된 딕셔너리 형태로 파싱하는 도구입니다\n",
    "- ResponseSchema를 사용하여 원하는 출력 구조를 정의합니다\n",
    "- Pydantic보다 간단하고 CommaSeparatedList보다 구조화된 중간 수준의 파서입니다\n",
    "- 키-값 쌍으로 이루어진 구조화된 데이터를 반환합니다"
   ]
  },
  {
   "cell_type": "markdown",
   "id": "49d609bc",
   "metadata": {
    "vscode": {
     "languageId": "raw"
    }
   },
   "source": [
    "LLM 모델 객체 생성하기"
   ]
  },
  {
   "cell_type": "code",
   "execution_count": null,
   "id": "6b19083c",
   "metadata": {},
   "outputs": [],
   "source": [
    "from langchain_ollama import ChatOllama\n",
    "\n",
    "llm = ChatOllama(\n",
    "    model=\"midm-2.0-base-instruct-q5_k_m\",\n",
    "    temperature=0.1,  # 구조화된 출력을 위해 낮은 temperature 설정\n",
    ")"
   ]
  },
  {
   "cell_type": "markdown",
   "id": "8600c513",
   "metadata": {
    "vscode": {
     "languageId": "raw"
    }
   },
   "source": [
    "구조화된 정보 추출이 필요할 때,  \n",
    "`StructuredOutputParser`를 사용하면 텍스트를 자동으로 딕셔너리 형태로 변환할 수 있습니다."
   ]
  },
  {
   "cell_type": "markdown",
   "id": "c7e0b203",
   "metadata": {},
   "source": [
    "### ResponseSchema란?\n",
    "- LLM의 출력을 구조화하기 위한 스키마 정의 클래스\n",
    "- 출력 필드의 이름(name)과 설명(description)을 정의\n",
    "- 각 필드가 어떤 정보를 담아야 하는지 LLM에게 안내하는 역할"
   ]
  },
  {
   "cell_type": "markdown",
   "id": "302b9884",
   "metadata": {
    "vscode": {
     "languageId": "raw"
    }
   },
   "source": [
    "1. ResponseSchema 정의 및 Structured Output Parser 생성하기"
   ]
  },
  {
   "cell_type": "code",
   "execution_count": null,
   "id": "c75732b6",
   "metadata": {},
   "outputs": [],
   "source": [
    "from langchain.output_parsers import StructuredOutputParser, ResponseSchema\n",
    "\n",
    "# ResponseSchema 정의 - 각 필드의 이름과 설명을 정의\n",
    "response_schemas = [\n",
    "    ResponseSchema(name=\"name\", description=\"군인의 이름\"),\n",
    "    ResponseSchema(name=\"rank\", description=\"군인의 계급 (예: 이병, 일병, 상병, 병장)\"),\n",
    "    ResponseSchema(name=\"unit\", description=\"소속 부대명\"),\n",
    "    ResponseSchema(name=\"specialty\", description=\"특기 또는 병과\"),\n",
    "    ResponseSchema(name=\"evaluation\", description=\"성과 평가 (우수, 보통, 미흡)\")\n",
    "]\n",
    "\n",
    "# Structured Output Parser 생성\n",
    "parser = StructuredOutputParser.from_response_schemas(response_schemas)\n",
    "\n",
    "# 파서가 어떤 형식을 요구하는지 확인\n",
    "print(parser.get_format_instructions())\n"
   ]
  },
  {
   "cell_type": "markdown",
   "id": "fffda40d",
   "metadata": {
    "vscode": {
     "languageId": "raw"
    }
   },
   "source": [
    "- **get_format_instructions()**: ResponseSchema를 기반으로 LLM이 이해할 수 있는 출력 형식 지침을 생성\n",
    "- LLM이 지정된 구조에 맞춰 JSON 형태로 응답하도록 안내"
   ]
  },
  {
   "cell_type": "markdown",
   "id": "9f3824fb",
   "metadata": {
    "vscode": {
     "languageId": "raw"
    }
   },
   "source": [
    "- `soldier_info` : 분석할 군인 정보 (사용자 입력을 받을 위치)\n",
    "- `format_instructions` : parser로 형식 지정"
   ]
  },
  {
   "cell_type": "code",
   "execution_count": null,
   "id": "13019b56",
   "metadata": {},
   "outputs": [],
   "source": [
    "from langchain_core.prompts import PromptTemplate\n",
    "\n",
    "# 프롬프트 템플릿 재정의 (format_instructions 포함)\n",
    "template = \"\"\"\n",
    "다음 군인 정보를 분석하여 구조화된 형태로 정리해주세요.\n",
    "\n",
    "군인 정보: {soldier_info}\n",
    "\n",
    "{format_instructions}\n",
    "\"\"\"\n",
    "\n",
    "# PromptTemplate 생성\n",
    "prompt = PromptTemplate(\n",
    "    template=template,\n",
    "    input_variables=[\"soldier_info\"],\n",
    "    partial_variables={\"format_instructions\": parser.get_format_instructions()}\n",
    ")\n",
    "\n",
    "# 프롬프트 미리보기\n",
    "formatted_prompt = prompt.format(soldier_info=\"[soldier_info]\")\n",
    "print(f\"생성된 프롬프트 템플릿:{formatted_prompt}\")\n"
   ]
  },
  {
   "cell_type": "markdown",
   "id": "2b527f74",
   "metadata": {
    "vscode": {
     "languageId": "raw"
    }
   },
   "source": [
    "LCEL 체인 만들기\n",
    "- 체인 구조: PromptTemplate → ChatOllama → StructuredOutputParser"
   ]
  },
  {
   "cell_type": "code",
   "execution_count": null,
   "id": "bd876ba9",
   "metadata": {},
   "outputs": [],
   "source": [
    "# LCEL을 사용한 체인 생성: 프롬프트 → LLM → 파서\n",
    "chain = prompt | llm | parser\n",
    "\n",
    "# 테스트 데이터\n",
    "test_info = \"이동훈 상병은 제3기계화보병사단 소속 정비병으로 18개월 복무했으며 매우 우수한 평가를 받고 있습니다.\"\n",
    "\n",
    "# 체인 실행\n",
    "result = chain.invoke({\"soldier_info\": test_info})\n",
    "\n",
    "print(f\"파싱 결과: {result}\")\n",
    "print(f\"이름: {result.get('name')}\")\n"
   ]
  }
 ],
 "metadata": {
  "kernelspec": {
   "display_name": "Python 3",
   "language": "python",
   "name": "python3"
  },
  "language_info": {
   "codemirror_mode": {
    "name": "ipython",
    "version": 3
   },
   "file_extension": ".py",
   "mimetype": "text/x-python",
   "name": "python",
   "nbconvert_exporter": "python",
   "pygments_lexer": "ipython3",
   "version": "3.11.10"
  }
 },
 "nbformat": 4,
 "nbformat_minor": 5
}
