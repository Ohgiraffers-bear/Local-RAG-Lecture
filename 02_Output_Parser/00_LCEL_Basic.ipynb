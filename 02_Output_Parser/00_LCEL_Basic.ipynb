{
 "cells": [
  {
   "cell_type": "markdown",
   "id": "68fd7562",
   "metadata": {},
   "source": [
    "## LCEL (Langchain Chain Expression Language)\n",
    "LCEL이란?\n",
    "- Langchain에서 프롬프트, 체인, LLM 호출 등 다양한 구성요소를 함수형으로 조합할 수 있게 해주는 표현식 기반의 문법입니다\n",
    "- 파이프라인처럼 여러 단계를 연결하여 복잡한 워크플로우를 간결하게 구현할 수 있습니다\n",
    "- 각 단계는 함수(또는 객체)로 표현되며, 입력과 출력을 명확하게 연결할 수 있습니다\n",
    "- 예시: (프롬프트 → LLM → 후처리) 과정을 한 줄로 연결하여 작성 가능합니다\n",
    "    - `chain = prompt | model | output`\n"
   ]
  },
  {
   "cell_type": "markdown",
   "id": "7f1f01a8",
   "metadata": {},
   "source": [
    "이번에는 앞서 사용해봤던 Prompt와 LLM 모델을 LCEL 문법으로 체인으로 만들어 볼겁니다.  \n",
    "`prompt` 와 `model`을 연결하기 위해 각각의 객체를 생성해봅시다."
   ]
  },
  {
   "cell_type": "markdown",
   "id": "4f61586c",
   "metadata": {},
   "source": [
    "LLM 모델 객체 생성하기"
   ]
  },
  {
   "cell_type": "code",
   "execution_count": null,
   "id": "fe2485d1",
   "metadata": {},
   "outputs": [],
   "source": [
    "from langchain_ollama import ChatOllama\n",
    "\n",
    "llm = ChatOllama(\n",
    "    model=\"midm-2.0-base-instruct-q5_k_m\",\n",
    "    temperature=0.7,\n",
    ")"
   ]
  },
  {
   "cell_type": "markdown",
   "id": "88ea2b5b",
   "metadata": {},
   "source": [
    "prompt 객체 생성하기"
   ]
  },
  {
   "cell_type": "code",
   "execution_count": null,
   "id": "42bbf099",
   "metadata": {},
   "outputs": [],
   "source": [
    "from langchain_core.prompts import PromptTemplate\n",
    "\n",
    "prompt = PromptTemplate.from_template(\"군대에 대해 궁금한 점이 있으면 질문해 주세요: {input}\")"
   ]
  },
  {
   "cell_type": "markdown",
   "id": "de2aa34b",
   "metadata": {},
   "source": [
    "chain 만들기"
   ]
  },
  {
   "cell_type": "code",
   "execution_count": null,
   "id": "a9c4b85c",
   "metadata": {},
   "outputs": [],
   "source": [
    "chain = prompt | llm"
   ]
  },
  {
   "cell_type": "code",
   "execution_count": null,
   "id": "cd858358",
   "metadata": {},
   "outputs": [],
   "source": [
    "input = \"예비군은 무엇인가요?\"\n",
    "\n",
    "chain.invoke(input)"
   ]
  },
  {
   "cell_type": "markdown",
   "id": "b4feb930",
   "metadata": {},
   "source": [
    "## LangSmith\n",
    "- LangChain 어플리케이션의 개발, 테스트, 모니터링 및 배포를 위한 플랫폼\n",
    "- LLM 기반어플리케이션의 전체 생명주기를 관리하는데 도움을 받을 수 있다.\n",
    "### 용도\n",
    "- 디버깅 : 복잡한 LLM 체인과 에이전트의 실행을 추적하고 시각화\n",
    "- 테스팅 : 다양한 입력에 대한 모델의 성능을 평가하고 회귀를 방지\n",
    "- 모니터링 : 프로덕션 환경에서 어플리케이션의 성능과 사용량을 추적"
   ]
  },
  {
   "cell_type": "code",
   "execution_count": null,
   "id": "0d7ab621",
   "metadata": {},
   "outputs": [],
   "source": [
    "!pip install langsmith"
   ]
  },
  {
   "cell_type": "code",
   "execution_count": null,
   "id": "b9f5a048",
   "metadata": {},
   "outputs": [],
   "source": [
    "# LangchainHub 사용을 위한 패키지 설치 및 환경변수 설정\n",
    "# !pip install langchainhub python-dotenv\n",
    "\n",
    "import os\n",
    "from dotenv import load_dotenv\n",
    "from langchain import hub\n",
    "\n",
    "# .env 파일에서 환경변수 로드\n",
    "load_dotenv()\n",
    "\n",
    "# LANGCHAIN_API_KEY 환경변수 값 확인\n",
    "langchain_api_key = os.getenv('LANGCHAIN_API_KEY')\n",
    "print(f\"LANGCHAIN_API_KEY가 설정되어 있나요?: {langchain_api_key[:10]}...\")\n"
   ]
  },
  {
   "cell_type": "code",
   "execution_count": null,
   "id": "be3d7fd1",
   "metadata": {},
   "outputs": [],
   "source": [
    "input = \"예비군은 무엇인가요?\"\n",
    "\n",
    "chain.invoke(input)"
   ]
  }
 ],
 "metadata": {
  "kernelspec": {
   "display_name": "Python 3",
   "language": "python",
   "name": "python3"
  },
  "language_info": {
   "codemirror_mode": {
    "name": "ipython",
    "version": 3
   },
   "file_extension": ".py",
   "mimetype": "text/x-python",
   "name": "python",
   "nbconvert_exporter": "python",
   "pygments_lexer": "ipython3",
   "version": "3.11.10"
  }
 },
 "nbformat": 4,
 "nbformat_minor": 5
}
