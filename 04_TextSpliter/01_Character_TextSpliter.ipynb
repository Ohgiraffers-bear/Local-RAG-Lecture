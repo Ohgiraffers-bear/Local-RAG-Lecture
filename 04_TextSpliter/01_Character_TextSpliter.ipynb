{
 "cells": [
  {
   "cell_type": "markdown",
   "id": "cf3959ea",
   "metadata": {
    "vscode": {
     "languageId": "raw"
    }
   },
   "source": [
    "# Character Text Splitter\n",
    "`CharacterTextSplitter`는 가장 기본적인 텍스트 분할 도구입니다.  \n",
    "특정 문자(separator)를 기준으로 텍스트를 나누어 작은 청크(chunk)로 만들어줍니다.\n",
    "\n",
    "**chunk란?**  \n",
    "문장을 분석/처리 하기 쉽게 텍스트를 작은 단위로 나눈 조각을 의미합니다."
   ]
  },
  {
   "cell_type": "code",
   "execution_count": null,
   "id": "5b36876b",
   "metadata": {},
   "outputs": [],
   "source": [
    "# 필요한 라이브러리 설치\n",
    "%pip install langchain-text-splitters -q"
   ]
  },
  {
   "cell_type": "markdown",
   "id": "d675488f",
   "metadata": {
    "vscode": {
     "languageId": "raw"
    }
   },
   "source": [
    "### 1. 기본 사용법\n",
    "\n",
    "CharacterTextSplitter의 기본 구조는 다음과 같습니다:\n",
    "\n",
    "**주요 매개변수**\n",
    "- `separator`: 텍스트를 나눌 기준 문자 (기본값: `\"\\n\\n\"`)\n",
    "- `chunk_size`: 각 청크의 최대 문자 수\n",
    "- `chunk_overlap`: 인접한 청크 간 겹치는 문자 수\n",
    "- `length_function`: 텍스트 길이를 측정하는 함수\n"
   ]
  },
  {
   "cell_type": "code",
   "execution_count": null,
   "id": "ab5401f6",
   "metadata": {},
   "outputs": [],
   "source": [
    "from langchain_text_splitters import CharacterTextSplitter\n",
    "\n",
    "# 예제 1: 기본적인 텍스트 분할\n",
    "sample_text = \"\"\"\n",
    "안녕하세요. 저는 AI 어시스턴트입니다.\n",
    "\n",
    "오늘은 CharacterTextSplitter에 대해 배워보겠습니다.\n",
    "\n",
    "이 도구는 텍스트를 작은 조각으로 나누는 데 사용됩니다.\n",
    "\n",
    "매우 유용한 도구입니다.\n",
    "\"\"\"\n",
    "\n",
    "# 기본 설정으로 텍스트 분할기 생성\n",
    "basic_splitter = CharacterTextSplitter(\n",
    "    chunk_size=30,     # 각 청크 최대 50자\n",
    "    chunk_overlap=5   # 10자씩 겹침\n",
    ")\n",
    "\n",
    "# 텍스트 분할 실행\n",
    "chunks = basic_splitter.split_text(sample_text)\n",
    "\n",
    "print(f\"\\n분할 결과: {len(chunks)}개의 청크 생성\")\n",
    "\n",
    "for i, chunk in enumerate(chunks, 1):\n",
    "    print(f\"청크 {i}: '{chunk}'\")\n",
    "    print(f\"길이: {len(chunk)}자\\n\")\n"
   ]
  },
  {
   "cell_type": "markdown",
   "id": "de64e1c5",
   "metadata": {
    "vscode": {
     "languageId": "raw"
    }
   },
   "source": [
    "## 2. 다양한 Separator 활용\n",
    "\n",
    "Separator는 텍스트를 나누는 기준점입니다. 상황에 따라 다른 separator를 사용할 수 있습니다.\n",
    "\n",
    "### 자주 사용되는 Separator들:\n",
    "- `\"\\n\\n\"`: 문단 단위로 분할 (기본값)\n",
    "- `\"\\n\"`: 줄 단위로 분할  \n",
    "- `\". \"`: 문장 단위로 분할\n",
    "- `\",\"`: 쉼표 단위로 분할\n",
    "- `\" \"`: 단어 단위로 분할\n"
   ]
  },
  {
   "cell_type": "code",
   "execution_count": null,
   "id": "d16000cf",
   "metadata": {},
   "outputs": [],
   "source": [
    "# 예제 2: 다양한 Separator 비교\n",
    "# 공통으로 사용할 텍스트 정의\n",
    "test_text = \"\"\"인공지능은 현대 기술의 핵심입니다. 머신러닝, 딥러닝, 자연어처리 등 다양한 분야가 있습니다.\n",
    "최근에는 ChatGPT, GPT-4 등의 대화형 AI가 주목받고 있습니다. 이러한 기술들은 우리 생활을 크게 변화시키고 있습니다.\"\"\""
   ]
  },
  {
   "cell_type": "markdown",
   "id": "000fb955",
   "metadata": {},
   "source": [
    "문장단위로 분할해봅시다."
   ]
  },
  {
   "cell_type": "code",
   "execution_count": null,
   "id": "f11a883c",
   "metadata": {},
   "outputs": [],
   "source": [
    "sentence_splitter = CharacterTextSplitter(\n",
    "    separator=\". \",     # 마침표 + 공백으로 문장 구분\n",
    "    chunk_size=60,      # 적당한 크기로 설정\n",
    "    chunk_overlap=10    # 문맥 연결을 위한 겹침\n",
    ")\n",
    "\n",
    "sentence_chunks = sentence_splitter.split_text(test_text)\n",
    "\n",
    "print(f\"결과: {len(sentence_chunks)}개 청크 생성\")\n",
    "print(f\"설정: 최대 60자, 10자 겹침\\n\")\n",
    "\n",
    "for i, chunk in enumerate(sentence_chunks, 1):\n",
    "    print(f\"청크 {i} ({len(chunk)}자): '{chunk}'\")\n",
    "    print()\n"
   ]
  },
  {
   "cell_type": "markdown",
   "id": "245d5406",
   "metadata": {
    "vscode": {
     "languageId": "raw"
    }
   },
   "source": [
    "## 3. Chunk Size와 Chunk Overlap의 효과\n",
    "\n",
    "### Chunk Size (청크 크기)\n",
    "- 각 텍스트 조각의 최대 길이를 결정\n",
    "- 너무 작으면: 문맥이 잘릴 수 있음\n",
    "- 너무 크면: 처리 효율성이 떨어질 수 있음\n",
    "    - 임베딩 정확도가 낮아짐\n",
    "    - 토큰수 증가\n",
    "\n",
    "### Chunk Overlap (청크 겹침)\n",
    "- 인접한 청크들 간의 겹치는 부분\n",
    "- 문맥 연속성을 유지하는 데 중요\n",
    "- 일반적으로 chunk_size의 10-20% 정도 설정\n",
    "\n",
    "\n",
    " *chunk_size = 300 ~ 800, chunk_overlap = 50 ~ 100 가 효율적이라고 알려져 있음*"
   ]
  },
  {
   "cell_type": "markdown",
   "id": "1f88bce6",
   "metadata": {},
   "source": [
    "이번에는 `File`을 통해 파일을 읽어와서 `TextSplitter`로 분할해보겠습니다."
   ]
  },
  {
   "cell_type": "code",
   "execution_count": null,
   "id": "58c405b1",
   "metadata": {},
   "outputs": [],
   "source": [
    "# data/appendix-keywords.txt 파일을 열어서 f라는 파일 객체를 생성합니다.\n",
    "with open(\"./data/training_log_all.txt\") as f:\n",
    "    file = f.read()  # 파일의 내용을 읽어서 file 변수에 저장합니다.\n",
    "\n",
    "print(file[:500])"
   ]
  },
  {
   "cell_type": "code",
   "execution_count": null,
   "id": "d78a1b80",
   "metadata": {},
   "outputs": [],
   "source": [
    "\n",
    "sentence_splitter = CharacterTextSplitter(\n",
    "    separator=\" \",\n",
    "    chunk_size=100,      # 적당한 크기로 설정\n",
    "    chunk_overlap=20    # 문맥 연결을 위한 겹침\n",
    ")\n",
    "\n",
    "sentence_chunks = sentence_splitter.split_text(file)\n",
    "\n",
    "print(f\"결과: {len(sentence_chunks)}개 청크 생성\")\n",
    "\n",
    "for i, chunk in enumerate(sentence_chunks, 1):\n",
    "    print(f\"청크 {i} ({len(chunk)}자): '{chunk}'\")\n",
    "    print()\n"
   ]
  },
  {
   "cell_type": "markdown",
   "id": "ec8e0c36",
   "metadata": {
    "vscode": {
     "languageId": "raw"
    }
   },
   "source": [
    "## 4. Document 객체 활용\n",
    "\n",
    "CharacterTextSplitter는 두 가지 메서드를 제공합니다:\n",
    "\n",
    "1. **`split_text(text)`**: 단순 문자열 리스트 반환\n",
    "2. **`create_documents(texts, metadatas)`**: Document 객체 리스트 반환\n",
    "\n",
    "Document 객체는 메타데이터를 포함할 수 있어 더 풍부한 정보를 저장할 수 있습니다.\n"
   ]
  },
  {
   "cell_type": "code",
   "execution_count": null,
   "id": "2359338b",
   "metadata": {},
   "outputs": [],
   "source": [
    "# 예제 4: Document 객체와 메타데이터 활용\n",
    "document_texts = [\n",
    "    \"Python은 간단하고 읽기 쉬운 프로그래밍 언어입니다. 데이터 분석, 웹 개발, AI 개발 등에 널리 사용됩니다.\",\n",
    "    \"JavaScript는 웹 개발의 핵심 언어입니다. 브라우저와 서버 양쪽에서 실행할 수 있습니다.\"\n",
    "]\n",
    "\n",
    "# 각 문서에 대한 메타데이터 정의\n",
    "document_metadata = [\n",
    "    {\"source\": \"text문서\"},\n",
    "    {\"source\": \"text문서\"},\n",
    "]\n",
    "# Document 객체 생성\n",
    "documents = sentence_splitter.create_documents(document_texts, document_metadata)\n",
    "\n",
    "print(documents[0])\n"
   ]
  }
 ],
 "metadata": {
  "kernelspec": {
   "display_name": "Python 3",
   "language": "python",
   "name": "python3"
  },
  "language_info": {
   "codemirror_mode": {
    "name": "ipython",
    "version": 3
   },
   "file_extension": ".py",
   "mimetype": "text/x-python",
   "name": "python",
   "nbconvert_exporter": "python",
   "pygments_lexer": "ipython3",
   "version": "3.11.13"
  }
 },
 "nbformat": 4,
 "nbformat_minor": 5
}
