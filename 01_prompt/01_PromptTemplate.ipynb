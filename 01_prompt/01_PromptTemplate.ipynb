{
 "cells": [
  {
   "cell_type": "markdown",
   "id": "04397806",
   "metadata": {},
   "source": [
    "## PromptTempalte\n",
    "- Langchain의 PromptTemplate은 프롬프트를 동적으로 생성할 수 있도록 도와주는 도구입니다\n",
    "- 변수와 템플릿을 활용해 다양한 입력값에 맞는 프롬프트를 손쉽게 만들 수 있습니다.  \n",
    "    - `input_variables` : 중괄호 안에 들어갈 변수이름 리스트\n",
    "\n",
    "공식문서에서 더 다양한 종류의 PromptTemplate들을 확인 할 수 있습니다.\n",
    "- https://python.langchain.com/api_reference/core/prompts.html"
   ]
  },
  {
   "cell_type": "markdown",
   "id": "35ef25b4",
   "metadata": {},
   "source": [
    "Langchain_ollama 라이브리러를 이용하여 확인해보기"
   ]
  },
  {
   "cell_type": "markdown",
   "id": "dfd4e8ba",
   "metadata": {},
   "source": [
    "### langchain_ollama\n",
    "- `langchain_ollama`는 LangChain 프레임워크에서 Ollama를 통해 실행되는 LLM(Local LLM)을 직접 제어하고 사용할 수 있게 해주는 통합 모듈"
   ]
  },
  {
   "cell_type": "code",
   "execution_count": null,
   "id": "f6ca5790",
   "metadata": {},
   "outputs": [],
   "source": [
    "%pip install langchain-ollama"
   ]
  },
  {
   "cell_type": "markdown",
   "id": "9dc1a7b2",
   "metadata": {},
   "source": [
    "LLM 객체 만들기"
   ]
  },
  {
   "cell_type": "code",
   "execution_count": null,
   "id": "ace7b778",
   "metadata": {},
   "outputs": [],
   "source": [
    "from langchain_ollama import ChatOllama\n",
    "\n",
    "llm = ChatOllama(\n",
    "    model=\"midm-2.0-base-instruct-q5_k_m\",\n",
    "    temperature=0.7, # 창의성 (0.0 ~ 1.0)\n",
    ")"
   ]
  },
  {
   "cell_type": "code",
   "execution_count": null,
   "id": "a91c1204",
   "metadata": {},
   "outputs": [],
   "source": [
    "from langchain_ollama import ChatOllama\n",
    "\n",
    "# Ollama 모델 가져오기\n",
    "llm = ChatOllama(model=\"midm-2.0-base-instruct-q5_k_m\")\n",
    "\n",
    "# 물어보기\n",
    "resposne = llm.invoke(\"대한민국 육군에 대해 설명해줘\")\n",
    "\n",
    "print(resposne.content)"
   ]
  },
  {
   "cell_type": "markdown",
   "id": "08f66eca",
   "metadata": {},
   "source": [
    "- JSON 형식으로 출력하기\n",
    "    - `format` 파라미터를 이용하여 json 형태 지정 가능\n",
    "    - `\"reason in JSON format.\"` 이 프롬프트에 작성이 되어야함."
   ]
  },
  {
   "cell_type": "code",
   "execution_count": null,
   "id": "43ffbc5b",
   "metadata": {},
   "outputs": [],
   "source": [
    "from langchain_ollama import ChatOllama\n",
    "\n",
    "# Ollama 모델 가져오기\n",
    "llm = ChatOllama(\n",
    "    model=\"midm-2.0-base-instruct-q5_k_m\",\n",
    "    format='json' # 출력 형식 지정\n",
    "    )\n",
    "\n",
    "# 물어보기\n",
    "response = llm.invoke(\"대한민국 군대에 대해 설명해줘\")\n",
    "print(response.content)"
   ]
  },
  {
   "cell_type": "markdown",
   "id": "be2b034a",
   "metadata": {},
   "source": [
    "`from_template()` 메소드로 `PromptTemplate` 만들기\n",
    "- 변수로 지정하고 싶은 영역을 `{변수}`로 지정한다."
   ]
  },
  {
   "cell_type": "code",
   "execution_count": null,
   "id": "1372f7e7",
   "metadata": {},
   "outputs": [],
   "source": [
    "from langchain_core.prompts import PromptTemplate\n",
    "\n",
    "# 프롬프트 템플릿 생성\n",
    "template = \"다음의 키워드를 군대에 관련지어 응답을 해주세요. : {input}\"\n",
    "\n",
    "prompt = PromptTemplate.from_template(template)\n",
    "\n",
    "print(prompt)"
   ]
  },
  {
   "cell_type": "markdown",
   "id": "04202c7e",
   "metadata": {},
   "source": [
    "`{변수}`로 지정한 변수에 값을 넣어서 prompt를 완성 할 수 있다."
   ]
  },
  {
   "cell_type": "code",
   "execution_count": null,
   "id": "f3b35cf1",
   "metadata": {},
   "outputs": [],
   "source": [
    "prompt = prompt.format(input=\"음식\")\n",
    "\n",
    "print(prompt)"
   ]
  },
  {
   "cell_type": "code",
   "execution_count": null,
   "id": "69267835",
   "metadata": {},
   "outputs": [],
   "source": [
    "print(llm.invoke(prompt));"
   ]
  },
  {
   "cell_type": "markdown",
   "id": "589451b0",
   "metadata": {},
   "source": [
    "`input_variables`를 사용하여 기본값을 지정할 수 있다."
   ]
  },
  {
   "cell_type": "code",
   "execution_count": null,
   "id": "35f9f9a0",
   "metadata": {},
   "outputs": [],
   "source": [
    "template = \"{input1} 과 {input2}의 대표적인 부대는 각각 어디인가요?\"\n",
    "\n",
    "prompt = PromptTemplate(\n",
    "    template=template,\n",
    "    input_variables=[\"input1\"],\n",
    "    partial_variables={\"input2\": \"공군\"},\n",
    ")\n",
    "\n",
    "print(prompt)"
   ]
  },
  {
   "cell_type": "code",
   "execution_count": null,
   "id": "bdc47582",
   "metadata": {},
   "outputs": [],
   "source": [
    "prompt.format(input1 = \"육군\")"
   ]
  },
  {
   "cell_type": "markdown",
   "id": "648e4ef3",
   "metadata": {},
   "source": [
    "`prompt.partial`을 통해 값을 재정의 할 수 있다.\n",
    "- prompt.partial은 일부 변수의 값을 미리 지정해두고, 나머지 변수만 나중에 입력받고 싶을 때 사용한다.\n",
    "- 예를 들어, 여러 번 반복적으로 사용할 값(예: input2=\"해군\")을 미리 고정해두고, input1만 바꿔가며 사용할 때 유용하다."
   ]
  },
  {
   "cell_type": "code",
   "execution_count": null,
   "id": "2d05ed20",
   "metadata": {},
   "outputs": [],
   "source": [
    "prompt = prompt.partial(input2=\"해군\");\n",
    "\n",
    "print(prompt)"
   ]
  },
  {
   "cell_type": "markdown",
   "id": "c448d6bd",
   "metadata": {},
   "source": [
    "input 값을 바꿔보자"
   ]
  },
  {
   "cell_type": "code",
   "execution_count": null,
   "id": "4a30e4f4",
   "metadata": {},
   "outputs": [],
   "source": [
    "prompt_partial = prompt.format(input1=\"육군\")\n",
    "\n",
    "llm.invoke(prompt_partial)"
   ]
  },
  {
   "cell_type": "markdown",
   "id": "2f3c71a5",
   "metadata": {},
   "source": [
    "## ChatPromptTemplate\n",
    "- `ChatPromptTemplate`은 여러 역할의 메시지를 순서대로 넣어서 대화 프롬프트를 쉽게 만들 수 있는 도구\n",
    "- 챗봇처럼 대화가 오갈 때 각 메시지를 따로 템플릿으로 만들고, 한 번에 조합해서 사용할 수 있음.\n",
    "- 구조\n",
    "   - 각 메시지는 역할(role)과 내용(content)로 구성됨\n",
    "   - role의 종류\n",
    "     - system: 시스템의 기본 지침이나 규칙을 안내할 때 사용\n",
    "     - human: 사용자의 질문이나 요청을 입력할 때 사용\n",
    "     - ai: AI의 답변을 입력할 때 사용"
   ]
  },
  {
   "cell_type": "code",
   "execution_count": null,
   "id": "1def2159",
   "metadata": {},
   "outputs": [],
   "source": [
    "from langchain_core.prompts import ChatPromptTemplate\n",
    "\n",
    "chat_template = ChatPromptTemplate.from_messages(\n",
    "    [\n",
    "        (\"system\", \"당신은 군대 전문가 입니다. 당신은 항상 대답의 끝에 `충성!` 을 붙입니다.\"),\n",
    "        (\"human\", \"안녕하세요. 군대에 대해 궁금한 점이 있습니다.\"),\n",
    "        (\"ai\", \"안녕하세요. 무엇이든 질문해주세요 충성!\"),\n",
    "        (\"human\", \"{input}\"),\n",
    "    ]\n",
    ")\n",
    "\n",
    "chat_prompt = chat_template.format_messages(input=\"너는 누구야?\")\n",
    "\n",
    "print(chat_prompt)"
   ]
  },
  {
   "cell_type": "code",
   "execution_count": null,
   "id": "8b28d7a7",
   "metadata": {},
   "outputs": [],
   "source": [
    "llm.invoke(chat_prompt)"
   ]
  },
  {
   "cell_type": "markdown",
   "id": "edd557c2",
   "metadata": {},
   "source": [
    "### MessagePlaceholder\n",
    " - `MessagePlaceholder`는 `ChatPromptTemplate`에서 메시지를 동적으로 삽입할 수 있게 해주는 기능\n",
    " - 기존 메시지를 재사용하거나 조건에 따라 다른 메시지를 넣을 때 유용함\n",
    " - 예를 들어 이전 대화 내용을 기억하고 참조해야 할 때 사용할 수 있음\n",
    " - 주요 사용 사례:\n",
    "   - 대화 기록 유지\n",
    "   - 동적 시스템 메시지 삽입\n",
    "   - 조건부 메시지 포함\n"
   ]
  },
  {
   "cell_type": "markdown",
   "id": "2a6cb298",
   "metadata": {},
   "source": [
    "`HumanMessage, AIMessage, SystemMessage`\n",
    "- 각각 사람, AI, 시스템의 메시지를 나타내는 객체\n",
    "- ChatPromptTemplate에서 메시지를 더 명시적이고 타입 안전하게 다룰 수 있음\n",
    "- 주요 특징:\n",
    "  - SystemMessage: 시스템의 기본 설정이나 규칙을 정의할 때 사용\n",
    "  - HumanMessage: 사용자의 입력을 나타낼 때 사용 \n",
    "  - AIMessage: AI의 응답을 나타낼 때 사용\n",
    "- 문자열 튜플 대신 이러한 객체를 사용하면 코드의 가독성과 유지보수성이 향상됨\n"
   ]
  },
  {
   "cell_type": "code",
   "execution_count": null,
   "id": "c23a53dc",
   "metadata": {},
   "outputs": [],
   "source": [
    "from langchain_core.prompts import ChatPromptTemplate, MessagesPlaceholder\n",
    "from langchain_core.messages import HumanMessage, AIMessage\n",
    "\n",
    "# 군대 관련 챗봇 프롬프트 템플릿\n",
    "chat_prompt = ChatPromptTemplate.from_messages(\n",
    "    [\n",
    "        (\"system\", \"당신은 군대 생활 도우미 챗봇입니다. 이전 대화를 참고하여 답변하세요.\"),\n",
    "        MessagesPlaceholder(variable_name=\"chat_history\"),\n",
    "        (\"human\", \"{user_input}\")\n",
    "    ]\n",
    ")\n",
    "\n",
    "# 실제 군대 챗봇 대화 기록 (짧고 간단)\n",
    "chat_history = [\n",
    "    HumanMessage(content=\"안녕하세요\"),\n",
    "    AIMessage(content=\"안녕하세요! 군대 생활에 대해 궁금한 점이 있으면 언제든 물어보세요.\"),\n",
    "    HumanMessage(content=\"다음 주에 입대예정이에요\"),\n",
    "    AIMessage(content=\"입대를 앞두고 계시는군요! 준비할 것들이 많으실 텐데 어떤 도움이 필요하신가요?\")\n",
    "]\n",
    "\n",
    "# 이전 대화를 참고한 새로운 질문\n",
    "messages = chat_prompt.format_messages(\n",
    "    chat_history=chat_history,\n",
    "    user_input=\"꼭 준비해야 할 물건이 뭐가 있나요?\" # 사용자입력\n",
    ")\n",
    "\n",
    "print(messages)"
   ]
  },
  {
   "cell_type": "code",
   "execution_count": null,
   "id": "2e85c357",
   "metadata": {},
   "outputs": [],
   "source": [
    "\n",
    "llm.invoke(messages)"
   ]
  }
 ],
 "metadata": {
  "kernelspec": {
   "display_name": "Python 3",
   "language": "python",
   "name": "python3"
  },
  "language_info": {
   "codemirror_mode": {
    "name": "ipython",
    "version": 3
   },
   "file_extension": ".py",
   "mimetype": "text/x-python",
   "name": "python",
   "nbconvert_exporter": "python",
   "pygments_lexer": "ipython3",
   "version": "3.11.13"
  }
 },
 "nbformat": 4,
 "nbformat_minor": 5
}
