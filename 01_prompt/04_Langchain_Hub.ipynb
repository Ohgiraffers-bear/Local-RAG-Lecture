{
 "cells": [
  {
   "cell_type": "markdown",
   "id": "abc88171",
   "metadata": {},
   "source": [
    "## LangchainHub를 사용해 프롬프트 형상관리하기\n",
    "\n",
    "### LangchainHub란?\n",
    "- LangChain에서 제공하는 **온라인 프롬프트 저장소**입니다\n",
    "- 클라우드 기반으로 프롬프트를 **버전 관리**하고 **공유** 가능합니다\n",
    "- 다양한 **사전 정의된 프롬프트** 템플릿을 제공합니다\n",
    "- **API를 통한 원격 로드**를 지원합니다\n",
    "\n",
    "### 주요 기능\n",
    " - 중앙화된 관리: 팀 전체가 동일한 프롬프트를 사용합니다  \n",
    " - 버전 관리: 프롬프트 변경 이력을 추적합니다  \n",
    " - 실시간 업데이트: 코드 수정 없이 프롬프트를 변경합니다  \n",
    " - 커뮤니티 공유: 다른 개발자들의 프롬프트를 활용합니다  \n",
    " - 템플릿 라이브러리: 검증된 프롬프트 패턴을 제공합니다\n"
   ]
  },
  {
   "cell_type": "markdown",
   "id": "ebeb5b5f",
   "metadata": {},
   "source": [
    "LangchainHub 설치 및 설정"
   ]
  },
  {
   "cell_type": "code",
   "execution_count": null,
   "id": "c5384cbc",
   "metadata": {},
   "outputs": [],
   "source": [
    "!pip install langchainhub"
   ]
  },
  {
   "cell_type": "markdown",
   "id": "73f4d181",
   "metadata": {},
   "source": [
    "### .env 파일 생성 가이드\n",
    "\n",
    "#### 1. .env 파일 생성\n",
    "프로젝트 루트 디렉토리에 `.env` 파일을 생성하고 다음 내용을 추가:\n",
    "```env\n",
    "LANGCHAIN_API_KEY=your-langchain-api-key-here\n",
    "```\n",
    "\n",
    "#### 2. API 키 발급 방법\n",
    "1. [LangSmith](https://smith.langchain.com) 사이트 접속\n",
    "2. 계정 생성 또는 로그인  \n",
    "3. Settings → API Keys 메뉴에서 새 API 키 생성\n",
    "4. 생성된 키를 `.env` 파일에 저장\n",
    "\n",
    "#### 3. .gitignore 설정\n",
    "보안을 위해 `.gitignore` 파일에 다음 추가:\n",
    "```gitignore\n",
    ".env\n",
    "*.env\n",
    "```\n",
    "\n",
    "⚠️ **보안 주의사항**: \n",
    "- API 키는 절대 코드에 직접 하드코딩하지 말 것\n",
    "- .env 파일을 Git에 커밋하지 않도록 주의\n"
   ]
  },
  {
   "cell_type": "markdown",
   "id": "01166587",
   "metadata": {},
   "source": [
    "LangChain APIKey 설정하기"
   ]
  },
  {
   "cell_type": "code",
   "execution_count": null,
   "id": "a45818ff",
   "metadata": {},
   "outputs": [],
   "source": [
    "# LangchainHub 사용을 위한 패키지 설치 및 환경변수 설정\n",
    "# !pip install langchainhub python-dotenv\n",
    "\n",
    "import os\n",
    "from dotenv import load_dotenv\n",
    "from langchain import hub\n",
    "\n",
    "# .env 파일에서 환경변수 로드\n",
    "load_dotenv()\n",
    "\n",
    "# LANGCHAIN_API_KEY 환경변수 값 확인\n",
    "langchain_api_key = os.getenv('LANGCHAIN_API_KEY')\n",
    "print(f\"LANGCHAIN_API_KEY가 설정되어 있나요?: {langchain_api_key[:10]}...\")\n"
   ]
  },
  {
   "cell_type": "markdown",
   "id": "7b7109ec",
   "metadata": {},
   "source": [
    "llm 모델 준비하기"
   ]
  },
  {
   "cell_type": "code",
   "execution_count": null,
   "id": "efb2b846",
   "metadata": {},
   "outputs": [],
   "source": [
    "from langchain_ollama import ChatOllama\n",
    "\n",
    "llm = ChatOllama(\n",
    "    model=\"midm-2.0-base-instruct-q5_k_m\",\n",
    "    temperature=0.7,\n",
    ")"
   ]
  },
  {
   "cell_type": "markdown",
   "id": "06e9326c",
   "metadata": {
    "vscode": {
     "languageId": "raw"
    }
   },
   "source": [
    "### 1. 허브에 공개된 Prompt 사용하기"
   ]
  },
  {
   "cell_type": "code",
   "execution_count": null,
   "id": "0a5d3188",
   "metadata": {},
   "outputs": [],
   "source": [
    "from langchain import hub\n",
    "\n",
    "prompt = hub.pull(\"bear-ohgiraffers/ko-summary-3\")\n",
    "\n",
    "print(prompt)"
   ]
  },
  {
   "cell_type": "markdown",
   "id": "bb2b7155",
   "metadata": {},
   "source": [
    "### 2. Prompt Hub에 자신의 프롬프트 등록"
   ]
  },
  {
   "cell_type": "code",
   "execution_count": null,
   "id": "cfa5cf92",
   "metadata": {},
   "outputs": [],
   "source": [
    "from langchain_core.prompts import PromptTemplate\n",
    "\n",
    "# 1. 로컬에서 프롬프트 생성\n",
    "custom_prompt = PromptTemplate(\n",
    "    input_variables=[\"topic\", \"difficulty\"],\n",
    "    template=\"\"\"당신은 군대 교육 전문가입니다.\n",
    "\n",
    "주제: {topic}\n",
    "\n",
    "위 주제에 대해 군대 교육에 적합한 내용으로 설명해주세요:\n",
    "1. 핵심 개념\n",
    "2. 실제 적용 사례  \n",
    "3. 주의사항\n",
    "\n",
    "설명:\"\"\"\n",
    ")\n",
    "\n",
    "# 2. LangchainHub에 업로드 (실제로는 계정 필요)\n",
    "# 업로드 예제 코드 (주석처리)\n",
    "# hub.push(\"myusername/military-education-prompt\", custom_prompt)\n",
    "hub.push(\"bear-ohgiraffers/military-education-prompt\", custom_prompt)\n"
   ]
  },
  {
   "cell_type": "markdown",
   "id": "cdfc1220",
   "metadata": {},
   "source": [
    "### 4. LangchainHub vs 로컬 파일 비교\n",
    "\n",
    "| 구분 | LangchainHub | 로컬 파일 |\n",
    "|------|-------------|-----------|\n",
    "| **장점** | • 중앙화된 관리<br>• 버전 관리 자동화<br>• 팀 협업 용이<br>• 커뮤니티 공유 | • 오프라인 사용 가능<br>• 빠른 로드 속도<br>• 보안성 높음<br>• 외부 의존성 없음 |\n",
    "| **단점** | • 인터넷 연결 필요<br>• 계정 및 API 키 필요<br>• 외부 서비스 의존 | • 수동 버전 관리<br>• 팀 공유 어려움<br>• 백업 관리 필요 |\n",
    "| **추천 상황** | • 팀 프로젝트<br>• 지속적 업데이트<br>• 표준화 필요 | • 개인 프로젝트<br>• 보안 중요 환경<br>• 안정적 운영 |\n",
    "\n",
    "### 활용 팁\n",
    "💡 **하이브리드 접근법**: 개발 초기에는 로컬 파일로 빠르게 프로토타이핑, 안정화 후 LangchainHub로 공유  \n",
    "💡 **백업 전략**: 중요한 프롬프트는 로컬에도 백업 보관  \n",
    "💡 **버전 명명법**: 의미있는 버전명 사용 (v1.0-basic, v2.0-enhanced 등)  \n",
    "💡 **팀 컨벤션**: 프롬프트 명명 규칙과 태그 시스템 구축\n"
   ]
  }
 ],
 "metadata": {
  "kernelspec": {
   "display_name": "Python 3",
   "language": "python",
   "name": "python3"
  },
  "language_info": {
   "codemirror_mode": {
    "name": "ipython",
    "version": 3
   },
   "file_extension": ".py",
   "mimetype": "text/x-python",
   "name": "python",
   "nbconvert_exporter": "python",
   "pygments_lexer": "ipython3",
   "version": "3.11.10"
  }
 },
 "nbformat": 4,
 "nbformat_minor": 5
}
