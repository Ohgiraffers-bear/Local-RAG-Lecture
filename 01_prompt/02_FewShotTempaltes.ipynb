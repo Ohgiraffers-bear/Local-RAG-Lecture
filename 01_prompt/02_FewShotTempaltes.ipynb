{
 "cells": [
  {
   "cell_type": "markdown",
   "id": "7629e124",
   "metadata": {
    "vscode": {
     "languageId": "raw"
    }
   },
   "source": [
    "## FewShotTemplate\n",
    "- `FewShotTemplate`은 몇 개의 예시(Few-shot examples)를 제공하여 AI가 원하는 형태의 답변을 생성하도록 도와주는 도구입니다\n",
    "- 예시를 통해 AI가 패턴을 학습하여 일관된 형식으로 답변할 수 있게 해줍니다\n",
    "    - `examples` : 예시 데이터들의 리스트\n",
    "    - `example_prompt` : 각 예시를 어떻게 표현할지 정의하는 템플릿\n",
    "    - `prefix` : 예시들 앞에 들어갈 설명\n",
    "    - `suffix` : 예시들 뒤에 들어갈 질문이나 지시사항\n"
   ]
  },
  {
   "cell_type": "markdown",
   "id": "7dc53fa8",
   "metadata": {
    "vscode": {
     "languageId": "raw"
    }
   },
   "source": [
    "LLM 객체 만들기"
   ]
  },
  {
   "cell_type": "code",
   "execution_count": null,
   "id": "170c4bce",
   "metadata": {},
   "outputs": [],
   "source": [
    "from langchain_ollama import ChatOllama\n",
    "\n",
    "llm = ChatOllama(\n",
    "    model=\"midm-2.0-base-instruct-q5_k_m\",\n",
    "    temperature=0.7,\n",
    ")\n"
   ]
  },
  {
   "cell_type": "markdown",
   "id": "7ef0e8bb",
   "metadata": {
    "vscode": {
     "languageId": "raw"
    }
   },
   "source": [
    "### 기본 FewShotPromptTemplate 사용법\n",
    "- 군대 용어 설명하는 예시를 만들어보자"
   ]
  },
  {
   "cell_type": "code",
   "execution_count": null,
   "id": "16d2a03b",
   "metadata": {},
   "outputs": [],
   "source": [
    "from langchain_core.prompts import FewShotPromptTemplate, PromptTemplate\n",
    "\n",
    "# 군대 용어 설명 예시 데이터\n",
    "examples = [\n",
    "    {\n",
    "        \"word\": \"PX\", \n",
    "        \"definition\": \"Post Exchange의 줄임말로, 군부대 내에 있는 매점이나 편의시설을 말합니다.\"\n",
    "    },\n",
    "    {\n",
    "        \"word\": \"GOP\", \n",
    "        \"definition\": \"General Outpost의 줄임말로, 최전방 경계초소를 의미합니다.\"\n",
    "    },\n",
    "    {\n",
    "        \"word\": \"내무반\", \n",
    "        \"definition\": \"군인들이 생활하는 숙소로, 여러 명이 함께 지내는 공동생활 공간입니다.\"\n",
    "    }\n",
    "]\n",
    "\n",
    "print(\"예시 데이터:\")\n",
    "for example in examples:\n",
    "    print(f\"- {example['word']}: {example['definition']}\")\n"
   ]
  },
  {
   "cell_type": "markdown",
   "id": "f03f3930",
   "metadata": {
    "vscode": {
     "languageId": "raw"
    }
   },
   "source": [
    "각 예시를 어떻게 표현할지 정의하는 `example_prompt` 만들기"
   ]
  },
  {
   "cell_type": "code",
   "execution_count": null,
   "id": "74ff3aa2",
   "metadata": {},
   "outputs": [],
   "source": [
    "# 각 예시를 어떻게 보여줄지 정의하는 템플릿\n",
    "example_prompt = PromptTemplate(\n",
    "    input_variables=[\"word\", \"definition\"],\n",
    "    template=\"용어: {word}\\n설명: {definition}\"\n",
    ")\n",
    "\n",
    "# 예시 하나로 테스트해보기\n",
    "test_example = examples[0]\n",
    "formatted_example = example_prompt.format(**test_example)\n",
    "print(\"포맷된 예시:\")\n",
    "print(formatted_example)\n"
   ]
  },
  {
   "cell_type": "markdown",
   "id": "a8abfe39",
   "metadata": {
    "vscode": {
     "languageId": "raw"
    }
   },
   "source": [
    "`FewShotPromptTemplate`을 만들어서 실제 활용해보기"
   ]
  },
  {
   "cell_type": "code",
   "execution_count": null,
   "id": "a7f8c3ac",
   "metadata": {},
   "outputs": [],
   "source": [
    "# FewShotPromptTemplate 생성\n",
    "few_shot_prompt = FewShotPromptTemplate(\n",
    "    examples=examples,\n",
    "    example_prompt=example_prompt,\n",
    "    prefix=\"당신은 군대 용어 전문가입니다. 다음 예시들을 참고하여 새로운 군대 용어를 설명해주세요.\",\n",
    "    suffix=\"용어: {input}\\n설명:\",\n",
    "    input_variables=[\"input\"]\n",
    ")\n",
    "\n",
    "# 전체 프롬프트 확인\n",
    "test_prompt = few_shot_prompt.format(input=\"부사관\")\n",
    "print(\"완성된 프롬프트:\")\n",
    "print(test_prompt)\n"
   ]
  },
  {
   "cell_type": "markdown",
   "id": "22cbd11e",
   "metadata": {
    "vscode": {
     "languageId": "raw"
    }
   },
   "source": [
    "실제로 LLM에 질문해보기\n"
   ]
  },
  {
   "cell_type": "code",
   "execution_count": null,
   "id": "dc049534",
   "metadata": {},
   "outputs": [],
   "source": [
    "# 여러 군대 용어들로 테스트\n",
    "test_words = [\"부사관\", \"전역\", \"면회\", \"포상휴가\"]\n",
    "\n",
    "for word in test_words:\n",
    "    prompt = few_shot_prompt.format(input=word)\n",
    "    response = llm.invoke(prompt)\n",
    "    print(f\"\\n🔍 질문: {word}\")\n",
    "    print(f\"📝 답변: {response.content}\")\n",
    "    print(\"-\" * 40)\n"
   ]
  },
  {
   "cell_type": "markdown",
   "id": "d14e8634",
   "metadata": {
    "vscode": {
     "languageId": "raw"
    }
   },
   "source": [
    "## ExampleSelector를 활용한 동적 예시 선택\n",
    "- 입력과 의미적으로 유사한 예시들을 자동으로 선택하는 방법\n",
    "- `SemanticSimilarityExampleSelector`는 벡터 유사도를 사용하여 가장 관련성 높은 예시들을 찾아줌\n",
    "- 더 정확하고 맥락에 맞는 Few-shot 추론이 가능함"
   ]
  },
  {
   "cell_type": "markdown",
   "id": "66f1b85f",
   "metadata": {},
   "source": [
    "예시들을 임베딩 하기 위해 백터DB FAISS와 HuggingFace에서 임베딩 모델을 가져온다."
   ]
  },
  {
   "cell_type": "code",
   "execution_count": null,
   "id": "f7baddf0",
   "metadata": {},
   "outputs": [],
   "source": [
    "%pip install langchain_community"
   ]
  },
  {
   "cell_type": "code",
   "execution_count": null,
   "id": "54c70d09",
   "metadata": {},
   "outputs": [],
   "source": [
    "from langchain_core.example_selectors import SemanticSimilarityExampleSelector\n",
    "from langchain_community.vectorstores import FAISS\n",
    "from langchain_community.embeddings import HuggingFaceEmbeddings\n",
    "\n",
    "# 더 많은 예시 데이터로 확장\n",
    "extended_examples = [\n",
    "    {\"word\": \"PX\", \"definition\": \"Post Exchange의 줄임말로, 군부대 내에 있는 매점이나 편의시설을 말합니다.\"},\n",
    "    {\"word\": \"GOP\", \"definition\": \"General Outpost의 줄임말로, 최전방 경계초소를 의미합니다.\"},\n",
    "    {\"word\": \"내무반\", \"definition\": \"군인들이 생활하는 숙소로, 여러 명이 함께 지내는 공동생활 공간입니다.\"},\n",
    "    {\"word\": \"사격\", \"definition\": \"군사훈련의 하나로, 총기를 이용하여 목표물을 맞추는 훈련입니다.\"},\n",
    "    {\"word\": \"행군\", \"definition\": \"군인들이 무거운 장비를 메고 장거리를 걸어서 이동하는 훈련입니다.\"},\n",
    "    {\"word\": \"점호\", \"definition\": \"정해진 시간에 부대원들의 출석을 확인하고 공지사항을 전달하는 시간입니다.\"},\n",
    "    {\"word\": \"휴가\", \"definition\": \"군 복무 중 일정 기간 부대를 벗어나 개인적인 시간을 갖는 것입니다.\"},\n",
    "    {\"word\": \"면회\", \"definition\": \"가족이나 지인이 부대를 방문하여 군인과 만나는 것입니다.\"},\n",
    "    {\"word\": \"부사관\", \"definition\": \"중급 간부로서 부대의 중추적 역할을 담당하는 전문 군인입니다.\"},\n",
    "    {\"word\": \"장교\", \"definition\": \"부대를 지휘하고 관리하는 고급 간부를 의미합니다.\"}\n",
    "]"
   ]
  },
  {
   "cell_type": "markdown",
   "id": "0e5ce32c",
   "metadata": {
    "vscode": {
     "languageId": "raw"
    }
   },
   "source": [
    "임베딩 모델과 벡터 스토어를 이용한 `SemanticSimilarityExampleSelector` 설정"
   ]
  },
  {
   "cell_type": "code",
   "execution_count": null,
   "id": "a6c41154",
   "metadata": {},
   "outputs": [],
   "source": [
    "# 임베딩 모델 설정 (한국어 지원)\n",
    "embeddings = HuggingFaceEmbeddings(\n",
    "    model_name=\"nlpai-lab/KURE-v1\",  # 한국어 임베딩 모델\n",
    "    model_kwargs={'device': 'cpu'}\n",
    ")\n",
    "\n",
    "# 의미적 유사도 기반 예시 선택기 생성\n",
    "example_selector = SemanticSimilarityExampleSelector.from_examples(\n",
    "    examples=extended_examples,  # 예시 데이터들\n",
    "    embeddings=embeddings,       # 임베딩 모델\n",
    "    vectorstore_cls=FAISS,       # 벡터 스토어 클래스\n",
    "    k=3,                         # 선택할 예시 개수\n",
    ")\n",
    "\n",
    "print(\"SemanticSimilarityExampleSelector 생성 완료!\")\n",
    "print(f\"총 {len(extended_examples)}개 예시 중에서 상위 3개를 선택하도록 설정했습니다.\")\n"
   ]
  },
  {
   "cell_type": "markdown",
   "id": "add62456",
   "metadata": {
    "vscode": {
     "languageId": "raw"
    }
   },
   "source": [
    "선택된 예시들 확인해보기"
   ]
  },
  {
   "cell_type": "code",
   "execution_count": null,
   "id": "88abaa5a",
   "metadata": {},
   "outputs": [],
   "source": [
    "# 테스트할 군대 관련 용어들을 리스트로 정의\n",
    "test_inputs = [\"지휘관\", \"훈련\", \"외박\", \"매점\"]\n",
    "\n",
    "# 각 테스트 용어에 대해 의미적으로 유사한 예시들을 찾아서 출력\n",
    "for test_input in test_inputs:\n",
    "    # example_selector를 사용하여 입력 용어와 의미적으로 유사한 예시들을 선택\n",
    "    selected_examples = example_selector.select_examples({\"word\": test_input})\n",
    "    \n",
    "    # 현재 테스트 중인 입력 용어 출력\n",
    "    print(f\"\\n 입력: '{test_input}'\")\n",
    "    print(\"선택된 유사한 예시들:\")\n",
    "    \n",
    "    # 선택된 예시들을 순서대로 출력\n",
    "    # definition은 가독성을 위해 앞부분 40자만 출력\n",
    "    for example in selected_examples:\n",
    "        print(f\"{example['word']}: {example['definition'][:40]}...\")\n",
    "    \n",
    "    # 구분선 출력으로 각 테스트 케이스를 시각적으로 구분\n",
    "    print(\"-\" * 60)"
   ]
  },
  {
   "cell_type": "markdown",
   "id": "99b572a2",
   "metadata": {
    "vscode": {
     "languageId": "raw"
    }
   },
   "source": [
    "`SemanticSimilarityExampleSelector`를 사용한 FewShotPromptTemplate 만들기"
   ]
  },
  {
   "cell_type": "code",
   "execution_count": null,
   "id": "afceda65",
   "metadata": {},
   "outputs": [],
   "source": [
    "# SemanticSimilarityExampleSelector를 사용한 FewShotPromptTemplate\n",
    "semantic_few_shot_prompt = FewShotPromptTemplate(\n",
    "    example_selector=example_selector,  # 의미적 유사도 선택기 사용\n",
    "    example_prompt=example_prompt,\n",
    "    prefix=\"당신은 군대 용어 전문가입니다. 다음 예시들을 참고하여 새로운 군대 용어를 설명해주세요.\",\n",
    "    suffix=\"용어: {input}\\n설명:\",\n",
    "    input_variables=[\"input\"]\n",
    ")\n",
    "\n",
    "# 테스트해보기\n",
    "test_word = \"지휘관\"\n",
    "semantic_prompt = semantic_few_shot_prompt.format(input=test_word)\n",
    "\n",
    "# 완성된 프롬프트 출력력\n",
    "print(semantic_prompt)\n"
   ]
  },
  {
   "cell_type": "markdown",
   "id": "7c138260",
   "metadata": {
    "vscode": {
     "languageId": "raw"
    }
   },
   "source": [
    "실제로 의미적 유사도 기반 Few-shot으로 LLM 테스트하기"
   ]
  },
  {
   "cell_type": "code",
   "execution_count": null,
   "id": "c2a0bc78",
   "metadata": {},
   "outputs": [],
   "source": [
    "# 지휘관 용어로 테스트\n",
    "word = \"지휘관\"\n",
    "\n",
    "# 어떤 예시들이 선택되었는지 먼저 확인\n",
    "selected = example_selector.select_examples({\"word\": word})\n",
    "\n",
    "# 선택된 예시들에서 'word' 값만 추출하여 리스트로 만들기 (리스트 컴프리헨션 사용)\n",
    "# ex는 각 예시 딕셔너리를 의미하고, ex['word']은 해당 예시의 용어명을 추출함\n",
    "# 예: [{'word': 'PX', 'definition': '...'}, {'word': 'GOP', 'definition': '...'}] → ['PX', 'GOP']\n",
    "selected_words = [ex['word'] for ex in selected]\n",
    "\n",
    "# 프롬프트 생성 및 LLM 호출\n",
    "prompt = semantic_few_shot_prompt.format(input=word)\n",
    "response = llm.invoke(prompt)\n",
    "\n",
    "print(f\"\\n질문: {word}\")\n",
    "print(f\"참고 예시: {', '.join(selected_words)}\")\n",
    "print(f\"답변: {response.content}\")\n",
    "print(\"=\" * 80)\n"
   ]
  }
 ],
 "metadata": {
  "kernelspec": {
   "display_name": "Python 3",
   "language": "python",
   "name": "python3"
  },
  "language_info": {
   "codemirror_mode": {
    "name": "ipython",
    "version": 3
   },
   "file_extension": ".py",
   "mimetype": "text/x-python",
   "name": "python",
   "nbconvert_exporter": "python",
   "pygments_lexer": "ipython3",
   "version": "3.11.13"
  }
 },
 "nbformat": 4,
 "nbformat_minor": 5
}
