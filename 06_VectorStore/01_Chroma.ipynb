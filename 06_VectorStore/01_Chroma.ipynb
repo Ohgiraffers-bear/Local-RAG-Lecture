{
 "cells": [
  {
   "cell_type": "markdown",
   "id": "cb80a9ab",
   "metadata": {
    "vscode": {
     "languageId": "raw"
    }
   },
   "source": [
    "# Chroma 벡터스토어 튜토리얼\n",
    "\n",
    "이 노트북에서는 LangChain과 Chroma를 사용하여 벡터스토어를 생성하고 활용하는 방법을 학습합니다.\n",
    "`Chroma`는 오픈소스 임베딩 데이터베이스로, 문서나 텍스트를 벡터화하여 저장하고 검색할 수 있게 해주는 벡터스토어입니다.\n",
    "\n",
    "### 벡터스토어의 주요기능\n",
    "- 문서 임베딩 및 저장\n",
    "- 유사도 검색 및 필터링\n",
    "- 영구 저장\n"
   ]
  },
  {
   "cell_type": "code",
   "execution_count": null,
   "id": "6a645f34",
   "metadata": {},
   "outputs": [],
   "source": [
    "%pip install chromadb"
   ]
  },
  {
   "cell_type": "markdown",
   "id": "e6c2ad96",
   "metadata": {},
   "source": [
    "임베딩해서 저장할 문서 준비"
   ]
  },
  {
   "cell_type": "code",
   "execution_count": null,
   "id": "c757cd18",
   "metadata": {},
   "outputs": [],
   "source": [
    "from langchain.document_loaders import TextLoader\n",
    "from langchain.text_splitter import RecursiveCharacterTextSplitter\n",
    "\n",
    "loader = TextLoader(\"data/training_log_all.txt\")\n",
    "docs = loader.load()\n",
    "\n",
    "text_splitter = RecursiveCharacterTextSplitter(chunk_size=200, chunk_overlap=20)\n",
    "\n",
    "split_docs = text_splitter.split_documents(docs)\n",
    "\n",
    "print(len(split_docs))\n",
    "\n",
    "print(split_docs[0])"
   ]
  },
  {
   "cell_type": "code",
   "execution_count": null,
   "id": "1901a509",
   "metadata": {},
   "outputs": [],
   "source": [
    "# 필요한 라이브러리 임포트\n",
    "from langchain_community.embeddings import HuggingFaceEmbeddings\n",
    "\n",
    "# 임베딩 모델 설정 (한국어 지원 모델)\n",
    "embedding_model = HuggingFaceEmbeddings(\n",
    "    model_name=\"nlpai-lab/KURE-v1\", \n",
    "    model_kwargs={'device': 'cpu'},  # CPU 사용 (GPU가 있다면 'cuda'도 가능)\n",
    "    encode_kwargs={'normalize_embeddings': True}  # 벡터 정규화 활성화\n",
    ")\n",
    "\n",
    "print(\"라이브러리 및 임베딩 모델 설정 완료\")\n"
   ]
  },
  {
   "cell_type": "code",
   "execution_count": null,
   "id": "2e8ad4f0",
   "metadata": {},
   "outputs": [],
   "source": [
    "from langchain_community.vectorstores import Chroma\n",
    "\n",
    "db = Chroma.from_documents(\n",
    "    documents=split_docs,\n",
    "    embedding=embedding_model,\n",
    "    collection_name=\"training_log\",\n",
    ")"
   ]
  },
  {
   "cell_type": "markdown",
   "id": "14919ab7",
   "metadata": {},
   "source": [
    " `db.get()` 함수는 Chroma 벡터 DB에 저장된 모든 문서와 메타데이터를 조회하는 함수입니다."
   ]
  },
  {
   "cell_type": "code",
   "execution_count": null,
   "id": "2d1bbf02",
   "metadata": {},
   "outputs": [],
   "source": [
    "db.get()"
   ]
  },
  {
   "cell_type": "markdown",
   "id": "56eeb125",
   "metadata": {},
   "source": [
    "### Chroma의 persist_directory 기능\n",
    "- `persist_directory`를 사용하면 벡터 DB를 파일 시스템에 영구적으로 저장할 수 있습니다\n",
    "- 프로그램을 재시작해도 이전에 저장한 데이터를 다시 불러올 수 있습니다"
   ]
  },
  {
   "cell_type": "code",
   "execution_count": null,
   "id": "99e78d47",
   "metadata": {},
   "outputs": [],
   "source": [
    "DB_PATH = \"./chroma_db\"\n",
    "\n",
    "persist_db = Chroma.from_documents(\n",
    "    split_docs, \n",
    "    embedding_model, \n",
    "    persist_directory=DB_PATH,\n",
    "    collection_name=\"training_log\"\n",
    ")"
   ]
  },
  {
   "cell_type": "code",
   "execution_count": null,
   "id": "041adfce",
   "metadata": {},
   "outputs": [],
   "source": [
    "persist_db.get()"
   ]
  },
  {
   "cell_type": "markdown",
   "id": "5bee1885",
   "metadata": {
    "vscode": {
     "languageId": "raw"
    }
   },
   "source": [
    "## 2. 유사도 검색 (Similarity Search)\n",
    "\n",
    "저장된 문서들 중에서 질의와 가장 유사한 문서를 찾는 기능입니다.\n",
    "\n",
    "- query : 검색할 문장\n",
    "- k : 반환할 결과의 수\n",
    "- filter : 메타데이터로 필터링\n"
   ]
  },
  {
   "cell_type": "code",
   "execution_count": null,
   "id": "086c396f",
   "metadata": {},
   "outputs": [],
   "source": [
    "# 기본 유사도 검색\n",
    "query = \"2대대의 분대 전술 훈련이 언제 진행되었나요?\"\n",
    "\n",
    "# 가장 유사한 3개 문서 검색\n",
    "search_results = db.similarity_search(\n",
    "    query=query,\n",
    "    k=3  # 상위 3개 결과 반환\n",
    ")\n",
    "\n",
    "print(f\"검색 질의: '{query}'\")\n",
    "print(\"검색 결과:\")\n",
    "for i, doc in enumerate(search_results):\n",
    "    print(f\"\\n{i+1}. 내용: {doc.page_content}\")\n",
    "    print(f\"   메타데이터: {doc.metadata}\")\n"
   ]
  },
  {
   "cell_type": "code",
   "execution_count": null,
   "id": "406854e0",
   "metadata": {},
   "outputs": [],
   "source": [
    "# 유사도 점수와 함께 검색\n",
    "query2 = \"23일에는 어떤 훈련이 진행되었나요?\"\n",
    "\n",
    "# 유사도 점수와 함께 검색 (점수가 낮을수록 더 유사함)\n",
    "result = db.similarity_search(\n",
    "    query=query2,\n",
    "    k=3\n",
    ")\n",
    "\n",
    "print(f\"검색 질의: '{query2}'\")\n",
    "print(\"검색 결과:\")\n",
    "for i, doc in enumerate(search_results):\n",
    "    print(f\"\\n{i+1}. 내용: {doc.page_content}\")\n",
    "    print(f\"   메타데이터: {doc.metadata}\")\n"
   ]
  },
  {
   "cell_type": "markdown",
   "id": "cb460390",
   "metadata": {
    "vscode": {
     "languageId": "raw"
    }
   },
   "source": [
    "### 3. 새로운 문서 추가\n",
    "\n",
    "기존 벡터스토어에 새로운 문서를 추가할 수 있습니다.\n"
   ]
  },
  {
   "cell_type": "code",
   "execution_count": null,
   "id": "f5a5ce89",
   "metadata": {},
   "outputs": [],
   "source": [
    "from langchain_core.documents import Document\n",
    "\n",
    "# 새로운 문서 추가\n",
    "new_documents = [\n",
    "    Document(\n",
    "        page_content=\"7월 19일 금요일 식단은 아침에 북어국과 계란말이, 점심에는 치킨마요 덮밥과 단무지, 저녁에는 부대찌개와 김치전이 제공됩니다.\",\n",
    "        metadata={\"category\":\"food\",\"date\": \"2025-07-19\", \"day\": \"Friday\"}\n",
    "    ),\n",
    "    Document(\n",
    "        page_content=\"7월 20일 토요일 식단은 아침에 미역국과 스크램블에그, 점심에는 제육볶음과 콩나물국, 저녁에는 김치찌개와 어묵볶음이 나옵니다.\",\n",
    "        metadata={\"category\":\"food\",\"date\": \"2025-07-20\", \"day\": \"Saturday\"}\n",
    "    ),\n",
    "    Document(\n",
    "        page_content=\"7월 21일 일요일 식단은 아침에 떡국과 김, 점심에는 함박스테이크와 감자조림, 저녁에는 라면과 김밥이 제공됩니다.\",\n",
    "        metadata={\"category\":\"food\",\"date\": \"2025-07-21\", \"day\": \"Sunday\"}\n",
    "    )\n",
    "]\n",
    "\n",
    "# 벡터스토어에 새 문서 추가\n",
    "db.add_documents(new_documents)\n",
    "\n",
    "print(\"새로운 문서 2개 추가 완료!\")\n",
    "print(f\"현재 총 문서 수: {db._collection.count()}\")\n",
    "\n",
    "# 추가된 문서 검색 테스트\n",
    "test_query = \"20\"\n",
    "test_results = db.similarity_search(test_query, k=3)\n",
    "\n",
    "print(test_results)\n"
   ]
  },
  {
   "cell_type": "markdown",
   "id": "e1dbb962",
   "metadata": {},
   "source": [
    "### 4. 메타데이터 필터링\n",
    "\n",
    "메타데이터를 기반으로 검색 결과를 필터링할 수 있습니다."
   ]
  },
  {
   "cell_type": "code",
   "execution_count": null,
   "id": "f7abd412",
   "metadata": {},
   "outputs": [],
   "source": [
    "# 메타데이터 필터를 사용한 검색\n",
    "query3 = \"20\"\n",
    "\n",
    "# 중급 난이도 문서만 검색\n",
    "filtered_results = db.similarity_search(\n",
    "    query=query3,\n",
    "    k=5,\n",
    "    filter={\"category\": \"food\"}\n",
    ")\n",
    "\n",
    "print(\"필터링된 검색 결과:\")\n",
    "for i, doc in enumerate(filtered_results):\n",
    "    print(f\"{i+1}. 내용: {doc.page_content}\")\n",
    "    print(f\"   카테고리: {doc.metadata['category']}\")"
   ]
  }
 ],
 "metadata": {
  "kernelspec": {
   "display_name": "Python 3",
   "language": "python",
   "name": "python3"
  },
  "language_info": {
   "codemirror_mode": {
    "name": "ipython",
    "version": 3
   },
   "file_extension": ".py",
   "mimetype": "text/x-python",
   "name": "python",
   "nbconvert_exporter": "python",
   "pygments_lexer": "ipython3",
   "version": "3.11.13"
  }
 },
 "nbformat": 4,
 "nbformat_minor": 5
}
