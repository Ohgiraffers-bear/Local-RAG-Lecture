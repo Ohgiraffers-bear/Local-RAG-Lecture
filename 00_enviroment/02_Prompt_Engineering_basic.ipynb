{
 "cells": [
  {
   "cell_type": "markdown",
   "id": "dc4d90c6",
   "metadata": {},
   "source": [
    "# Prompt Engineering\n",
    "\n",
    "## 1.Prompt Engineering 개념\n",
    "### Prompt Engineering이란?\n",
    "\n",
    "**Prompt Engineering**은 AI 언어 모델(LLM)이 원하는 결과를 생성하도록 하는 입력 명령어(프롬프트)를 설계하고 최적화하는 기술입니다.\n",
    "\n",
    "단순히 AI에게 질문을 던지는 것이 아니라, **전략적이고 체계적으로 지시사항을 구성**하여 AI의 성능을 극대화하는 과정입니다.\n",
    "\n",
    "### 왜 Prompt Engineering이 중요한가?\n",
    "\n",
    "- **성능 차이**: 동일한 AI 모델에서도 프롬프트에 따라 **10배 이상 성능 차이** 발생\n",
    "- **비용 절약**: 효율적인 프롬프트로 **토큰 사용량 80% 절약** 가능  \n",
    "- **정확도 향상**: 올바른 프롬프팅으로 **40-50% 정확도 개선** 달성\n",
    "- **생산성 증대**: AI와의 효과적 협업으로 업무 효율성 극대화\n",
    "\n",
    "### Check!\n",
    "\n",
    "> **\"AI는 당신이 말하는 대로가 아니라, 당신이 의미하는 대로 이해하지 못합니다.\"**\n"
   ]
  },
  {
   "cell_type": "markdown",
   "id": "8553adde",
   "metadata": {},
   "source": [
    "실습을 위한 세팅"
   ]
  },
  {
   "cell_type": "code",
   "execution_count": null,
   "id": "71ff9b85",
   "metadata": {},
   "outputs": [],
   "source": [
    "import ollama\n",
    "\n",
    "\n",
    "def generate_response(prompt):\n",
    "    response = ollama.generate(model='midm-2.0-base-instruct-q5_k_m', prompt=prompt)\n",
    "    return response['response']"
   ]
  },
  {
   "cell_type": "markdown",
   "id": "3c784a0a",
   "metadata": {},
   "source": [
    "## 2. 프롬프트 설계의 기본 원칙\n",
    "\n",
    "### 1. 명확성 (Clarity)\n",
    "\n",
    "**모호함을 제거하고 구체적인 지시를 제공**\n",
    "\n",
    "#### ❌ 나쁜 예시\n",
    "```\n",
    "\"이것에 대해 뭔가 써줘\"\n",
    "\"신병교육대 훈련 프로그램 개선안에 대해 써줘\"\n",
    "```\n",
    "\n",
    "#### ✅ 좋은 예시  \n",
    "```\n",
    "\"신병교육대 훈련 프로그램 개선안을 5가지 작성해주세요.\n",
    "대상: 21-24세 신병, 목표: 체력 향상률 30% 이상 달성\"\n",
    "```\n",
    "\n",
    "**핵심 포인트**: \n",
    "- 구체적인 요청사항 명시\n",
    "- 대상 명확화\n",
    "- 목표와 기대 결과 제시"
   ]
  },
  {
   "cell_type": "code",
   "execution_count": null,
   "id": "abc2980d",
   "metadata": {},
   "outputs": [],
   "source": [
    "prompt = \"훈련 개선안에 대해 써줘\"\n",
    "\n",
    "print(generate_response(prompt))"
   ]
  },
  {
   "cell_type": "code",
   "execution_count": null,
   "id": "0a399b03",
   "metadata": {},
   "outputs": [],
   "source": [
    "prompt = \"신병교육대 훈련 프로그램 개선안을 5가지 작성해주세요.대상: 21-24세 신병, 목표: 체력 향상률 30% 이상 달성\"\n",
    "\n",
    "print(generate_response(prompt))"
   ]
  },
  {
   "cell_type": "markdown",
   "id": "aac509a1",
   "metadata": {
    "vscode": {
     "languageId": "plaintext"
    }
   },
   "source": [
    "### 2. 구체성 (Specificity)\n",
    "\n",
    "**세부 요구사항과 조건을 상세히 기술**\n",
    "\n",
    "#### ❌ 모호한 지시\n",
    "```\n",
    "\"훈련을 개선해줘\"\n",
    "```\n",
    "\n",
    "#### ✅ 구체적인 지시\n",
    "```\n",
    "\"기존 5km 완주 훈련을 3km 구간별 인터벌 훈련으로 개선하고,\n",
    "부상률을 현재 15%에서 5% 이하로 줄여주세요. 훈련 시간은 동일하게 유지하면서요.\"\n",
    "```\n",
    "\n",
    "\n",
    "**포함할 요소들**:\n",
    "- 입력/출력 형식\n",
    "- 길이 제한 (글자 수, 단어 수)\n",
    "- 성과 기준"
   ]
  },
  {
   "cell_type": "markdown",
   "id": "65169283",
   "metadata": {},
   "source": [
    "### 3. 제약 조건 (Constraints)\n",
    "\n",
    "**원하지 않는 결과를 방지하는 경계 설정**\n",
    "\n",
    "#### 제약의 유형\n",
    "\n",
    "**길이 제약**\n",
    "```\n",
    "\"200자 이내로 작성해주세요\"\n",
    "\"5개 항목으로 제한해주세요\"\n",
    "```\n",
    "\n",
    "**내용 제약**\n",
    "```\n",
    "\"기밀 정보는 포함하지 마세요\"\n",
    "\"부정적인 표현은 피해주세요\"\n",
    "\"개인 신상정보는 포함하지 마세요\"\n",
    "```\n",
    "\n",
    "**형식 제약**\n",
    "```\n",
    "\"공문서 형식으로 출력해주세요\"\n",
    "\"불릿 포인트로 정리해주세요\"\n",
    "```\n",
    "\n",
    "#### 실전 예시\n",
    "```\n",
    "\"해병대 홍보자료를 작성해주세요.\n",
    "\n",
    "제약 조건:\n",
    "- 길이: 800-1000자\n",
    "- 톤: 권위있지만 친근하게\n",
    "- 금지: 과장된 표현, 확인되지 않은 수치, 기밀사항\n",
    "- 필수 포함: 부대 역사, 주요 임무 3가지, 모집 분야\"\n",
    "```"
   ]
  },
  {
   "cell_type": "code",
   "execution_count": null,
   "id": "3fc5bc89",
   "metadata": {},
   "outputs": [],
   "source": [
    "prompt = \"\"\"\n",
    "해병대 홍보자료를 작성해주세요.\n",
    "\n",
    "제약 조건:\n",
    "- 길이: 800-1000자\n",
    "- 톤: 권위있지만 친근하게\n",
    "- 금지: 과장된 표현, 확인되지 않은 수치, 기밀사항\n",
    "- 필수 포함: 부대 역사, 주요 임무 3가지, 모집 분야\n",
    "\"\"\"\n",
    "\n",
    "print(generate_response(prompt))"
   ]
  },
  {
   "cell_type": "markdown",
   "id": "384e8dab",
   "metadata": {},
   "source": [
    "### 4. 톤 & 스타일 지정 (Tone & Style)\n",
    "\n",
    "**대상 독자와 상황에 맞는 문체 설정**\n",
    "\n",
    "#### 톤의 종류\n",
    "\n",
    "**비즈니스 공식**\n",
    "```\n",
    "\"전문적이고 간결한 톤으로 작성해주세요\"\n",
    "```\n",
    "\n",
    "**친근한 대화체**\n",
    "```\n",
    "\"친구와 대화하듯 편안하고 따뜻한 톤으로\"\n",
    "```\n",
    "\n",
    "**교육적 설명**\n",
    "```\n",
    "\"초보자도 이해할 수 있도록 쉽고 친절하게\"\n",
    "```\n",
    "\n",
    "**창의적 표현**\n",
    "```\n",
    "\"유머러스하고 독창적인 스타일로\"\n",
    "```"
   ]
  },
  {
   "cell_type": "code",
   "execution_count": null,
   "id": "0adf971b",
   "metadata": {},
   "outputs": [],
   "source": [
    "prompt = \"\"\"\n",
    "훈련교관 말투로 해병대에 대해 설명해주세요.\n",
    "\"\"\"\n",
    "\n",
    "print(generate_response(prompt))"
   ]
  }
 ],
 "metadata": {
  "kernelspec": {
   "display_name": "Python 3",
   "language": "python",
   "name": "python3"
  },
  "language_info": {
   "codemirror_mode": {
    "name": "ipython",
    "version": 3
   },
   "file_extension": ".py",
   "mimetype": "text/x-python",
   "name": "python",
   "nbconvert_exporter": "python",
   "pygments_lexer": "ipython3",
   "version": "3.11.10"
  }
 },
 "nbformat": 4,
 "nbformat_minor": 5
}
