{
 "cells": [
  {
   "cell_type": "markdown",
   "id": "85464eb2",
   "metadata": {
    "vscode": {
     "languageId": "raw"
    }
   },
   "source": [
    "## Directory Loader란?\n",
    "디렉토리 내의 여러 파일을 일괄적으로 로드하는 도구입니다\n",
    "\n",
    "### Langchain의 DirectoryLoader\n",
    "특정 디렉토리 내의 모든 파일을 한 번에 처리할 수 있는 편리한 로더입니다\n",
    "- 다양한 파일 형식을 지원하며, 파일 유형별로 적절한 로더를 자동으로 선택\n",
    "- 대용량 문서 컬렉션 처리에 효율적\n",
    "\n",
    "**DirectoryLoader를 사용하는 이유:**\n",
    "- 일괄 처리 : 여러 파일을 개별적으로 로드할 필요 없이 한 번에 처리합니다\n",
    "- 자동 파일 형식 감지 : 파일 확장자에 따라 적절한 로더를 자동으로 선택합니다\n",
    "- 필터링 기능 : 특정 파일 형식만 선택적으로 로드 가능합니다\n",
    "- 메타데이터 보존 : 각 파일의 출처 정보를 메타데이터로 유지합니다\n",
    "- 대용량 처리 : 수백, 수천 개의 파일도 효율적으로 처리 가능합니다\n"
   ]
  },
  {
   "cell_type": "code",
   "execution_count": null,
   "id": "60d4e227",
   "metadata": {},
   "outputs": [],
   "source": [
    "# 디렉토리 경로 설정\n",
    "DATA_DIRECTORY_PATH = \"data/\""
   ]
  },
  {
   "cell_type": "markdown",
   "id": "cd8cd13f",
   "metadata": {
    "vscode": {
     "languageId": "raw"
    }
   },
   "source": [
    "### 기본 DirectoryLoader\n",
    "- LangChain에서 제공하는 디렉토리용 문서 로더 클래스\n",
    "- 지정된 디렉토리 내의 모든 파일을 자동으로 로드\n",
    "- 파일 확장자에 따라 적절한 로더를 자동으로 선택하여 사용\n",
    "- `glob` 매개변수로 특정 파일 패턴만 선택 가능\n",
    "\n",
    "`dirctoryLoader`는 기본적으로 unstructured를 이용해서 문서를 읽어옵니다. "
   ]
  },
  {
   "cell_type": "code",
   "execution_count": null,
   "id": "7e8e78a0",
   "metadata": {},
   "outputs": [],
   "source": [
    "# unstructured[pdf] : pdf 문서에서 내용을 쉽게 추출하고 분석할 수 있게 해줌\n",
    "%pip install unstructured[pdf]"
   ]
  },
  {
   "cell_type": "code",
   "execution_count": null,
   "id": "e4e3edd8",
   "metadata": {},
   "outputs": [],
   "source": [
    "from langchain_community.document_loaders import DirectoryLoader\n",
    "\n",
    "# 디렉토리 로더 초기화 (모든 파일 로드)\n",
    "directory_loader = DirectoryLoader(DATA_DIRECTORY_PATH)\n",
    "\n",
    "# 모든 문서 로드\n",
    "all_documents = directory_loader.load()\n",
    "\n",
    "# 로드된 문서 개수 확인\n",
    "print(f\"로드된 문서 개수: {len(all_documents)}\")\n",
    "\n",
    "# 첫 번째 문서의 내용 일부 출력\n",
    "print(f\"\\n첫 번째 문서 미리보기:\")\n",
    "print(f\"내용: {all_documents[1].page_content[:200]}\")"
   ]
  },
  {
   "cell_type": "markdown",
   "id": "25baf741",
   "metadata": {
    "vscode": {
     "languageId": "raw"
    }
   },
   "source": [
    "### 특정 파일 형식만 로드하기\n",
    "- `glob` 매개변수를 사용하여 특정 파일 패턴만 선택\n",
    "- 와일드카드 패턴 사용 가능:\n",
    "  - `*.txt`: 모든 텍스트 파일\n",
    "  - `*.pdf`: 모든 PDF 파일\n",
    "  - `**/*.txt`: 하위 디렉토리 포함 모든 텍스트 파일\n",
    "- 여러 패턴을 조합하여 복잡한 필터링도 가능"
   ]
  },
  {
   "cell_type": "code",
   "execution_count": null,
   "id": "374c737b",
   "metadata": {},
   "outputs": [],
   "source": [
    "# PDF 파일만 로드\n",
    "pdf_loader = DirectoryLoader(\n",
    "    DATA_DIRECTORY_PATH,\n",
    "    glob=\"*.pdf\"  # PDF 파일만 선택\n",
    ")\n",
    "\n",
    "pdf_documents = pdf_loader.load()\n",
    "print(f\"PDF 문서 개수: {len(pdf_documents)}\")\n"
   ]
  },
  {
   "cell_type": "code",
   "execution_count": null,
   "id": "9c38f39b",
   "metadata": {},
   "outputs": [],
   "source": [
    "# 텍스트 파일만 로드\n",
    "txt_loader = DirectoryLoader(\n",
    "    DATA_DIRECTORY_PATH,\n",
    "    glob=\"*.txt\"  # 텍스트 파일만 선택\n",
    ")\n",
    "\n",
    "txt_documents = txt_loader.load()\n",
    "print(f\"텍스트 문서 개수: {len(txt_documents)}\")\n"
   ]
  },
  {
   "cell_type": "markdown",
   "id": "5275d4bc",
   "metadata": {
    "vscode": {
     "languageId": "raw"
    }
   },
   "source": [
    "### 고급 DirectoryLoader 설정\n",
    "**로더 설정**\n",
    "- `loader_cls` : 특정 로더 클래스를 지정하여 모든 파일에 동일한 로더 적용\n",
    "- `loader_kwargs` : 로더에 전달할 추가 매개변수 설정\n",
    "- `recursive` : 하위 디렉토리까지 재귀적으로 탐색 여부\n",
    "- `show_progress` : 로딩 진행 상황 표시 여부\n",
    "- `use_multithreading` : 멀티스레딩을 사용한 병렬 처리 활성화\n",
    "\n",
    "**예외 처리**\n",
    "- `silent_errors=True`: 개별 파일 로딩 실패 시 해당 파일을 건너뛰고 계속 진행 할 수 있다.\n",
    "    - 대용량 디렉토리에서 일부 파일에 문제가 있어도 전체 작업 중단 방지\n"
   ]
  },
  {
   "cell_type": "code",
   "execution_count": null,
   "id": "038effbb",
   "metadata": {},
   "outputs": [],
   "source": [
    "from langchain_community.document_loaders import TextLoader\n",
    "\n",
    "# 로더 클래스를 지정하여 사용\n",
    "advanced_loader = DirectoryLoader(\n",
    "    DATA_DIRECTORY_PATH,\n",
    "    glob=\"*.txt\",  # 텍스트 파일만 대상\n",
    "    loader_cls=TextLoader,  # TextLoader를 명시적으로 사용\n",
    "    loader_kwargs={'encoding': 'utf-8'},  # 인코딩 설정\n",
    "    show_progress=True,  # 진행 상황 표시\n",
    "    use_multithreading=True  # 병렬 처리 사용\n",
    ")\n",
    "\n",
    "# 문서 로드 실행\n",
    "advanced_documents = advanced_loader.load()\n",
    "\n",
    "print(f\"고급 설정으로 로드된 문서 개수: {len(advanced_documents)}\")\n"
   ]
  }
 ],
 "metadata": {
  "kernelspec": {
   "display_name": "Python 3",
   "language": "python",
   "name": "python3"
  },
  "language_info": {
   "codemirror_mode": {
    "name": "ipython",
    "version": 3
   },
   "file_extension": ".py",
   "mimetype": "text/x-python",
   "name": "python",
   "nbconvert_exporter": "python",
   "pygments_lexer": "ipython3",
   "version": "3.11.13"
  }
 },
 "nbformat": 4,
 "nbformat_minor": 5
}
