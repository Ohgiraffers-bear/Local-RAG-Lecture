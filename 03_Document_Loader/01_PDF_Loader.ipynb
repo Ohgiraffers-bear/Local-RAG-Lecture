{
 "cells": [
  {
   "cell_type": "markdown",
   "id": "40442204",
   "metadata": {},
   "source": [
    "### PDF Loader란?\n",
    "PDF(Portable Document Format) 파일에서 텍스트 및 메타데이터를 추출하는 도구입니다  \n",
    "\n",
    "### Langchain의 PDFLoader\n",
    "- Langchain은 다양한 PDF 처리 도구들을 통합하여 제공합니다\n",
    "- 문서 처리를 위한 일관된 인터페이스를 제공합니다"
   ]
  },
  {
   "cell_type": "markdown",
   "id": "8e85144f",
   "metadata": {},
   "source": [
    "**실습자료**\n",
    "- 제목 : 2025 병 복지 길라잡이  \n",
    "- 링크 : [국방부 홈페이지 자료위치 링크](https://www.mnd.go.kr/cop/pblictn/selectPublicationUser.do?siteId=mnd&componentId=14&categoryId=0&publicationSeq=1112&pageIndex=1&id=mnd_020704000000)  \n",
    "- 출처 : 국방부 복지정책과\n",
    "\n",
    "*링크에서 파일을 다운로드 받은후 파일명을 `Soldier-Benefits-Guide.pdf`로 변경한뒤 data 폴더에 위치시켜주세요*"
   ]
  },
  {
   "cell_type": "code",
   "execution_count": null,
   "id": "98e71c11",
   "metadata": {},
   "outputs": [],
   "source": [
    "FILE_PATH = \"data/Soldier-Benefits-Guide.pdf\""
   ]
  },
  {
   "cell_type": "markdown",
   "id": "5bec6997",
   "metadata": {},
   "source": [
    "### PyPDF\n",
    "- LangChain에서 제공하는 기본적인 PDF 파일용 문서 로더 클래스입니다\n",
    "- `pypdf` 라이브러리를 활용해 PDF의 텍스트 콘텐츠를 추출 할 수 있습니다.\n",
    "- `extract_images=True` 옵션을 사용하여 이미지 추출이 가능합니다.\n",
    "    - 단, 내부적으로 `rapidocr-onnxruntime` 패키지를 사용하므로 패키지가 설치 되어 있어야합니다."
   ]
  },
  {
   "cell_type": "code",
   "execution_count": null,
   "id": "01c0ec25",
   "metadata": {},
   "outputs": [],
   "source": [
    "%pip install pypdf"
   ]
  },
  {
   "cell_type": "code",
   "execution_count": null,
   "id": "6cb0c574",
   "metadata": {},
   "outputs": [],
   "source": [
    "from langchain_community.document_loaders import PyPDFLoader\n",
    "\n",
    "# 파일 경로 설정\n",
    "loader = PyPDFLoader(FILE_PATH)\n",
    "\n",
    "# PDF 로더 초기화\n",
    "docs = loader.load()\n",
    "\n",
    "# 문서의 내용 출력\n",
    "print(docs[8].page_content)"
   ]
  },
  {
   "cell_type": "markdown",
   "id": "59e9db04",
   "metadata": {},
   "source": [
    "### PyMuPDF\n",
    "- PyMuPDF는 MuPDF 엔진을 기반으로 한 PDF 처리 라이브러리\n",
    "- PyPDF보다 속도에 최적화 되어있고, 페이지마다 자세한 메타데이터를 포함하고 있다.\n",
    "- 메모리 사용량이 적어 대용량 PDF 처리에 효율적\n",
    "- OCR 기능을 내장하고 있어 스캔된 문서에서도 텍스트 추출 가능"
   ]
  },
  {
   "cell_type": "code",
   "execution_count": null,
   "id": "3e2285fc",
   "metadata": {},
   "outputs": [],
   "source": [
    "from langchain_community.document_loaders import PyMuPDFLoader\n",
    "\n",
    "# 파일 경로 설정\n",
    "loader = PyMuPDFLoader(FILE_PATH)\n",
    "\n",
    "# PDF 로더 초기화\n",
    "docs = loader.load()\n",
    "\n",
    "# 문서의 내용 출력\n",
    "print(docs[8].page_content)"
   ]
  }
 ],
 "metadata": {
  "kernelspec": {
   "display_name": "Python 3",
   "language": "python",
   "name": "python3"
  },
  "language_info": {
   "codemirror_mode": {
    "name": "ipython",
    "version": 3
   },
   "file_extension": ".py",
   "mimetype": "text/x-python",
   "name": "python",
   "nbconvert_exporter": "python",
   "pygments_lexer": "ipython3",
   "version": "3.11.13"
  }
 },
 "nbformat": 4,
 "nbformat_minor": 5
}
