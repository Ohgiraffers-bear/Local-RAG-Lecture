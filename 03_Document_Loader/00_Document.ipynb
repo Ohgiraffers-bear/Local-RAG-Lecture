{
 "cells": [
  {
   "cell_type": "markdown",
   "id": "a3fc3c33",
   "metadata": {},
   "source": [
    "# Document\n",
    "\n",
    "### RAG Flow\n",
    "![RAG_Flow.png](./images/RAG_Flow.png)"
   ]
  },
  {
   "cell_type": "markdown",
   "id": "b39918be",
   "metadata": {},
   "source": [
    "## Document 객체와 속성\n",
    "LangChain의 `Document` 객체는 텍스트 데이터를 표현하는 기본 단위입니다.\n",
    "\n",
    "### 주요 속성\n",
    "- page_content : 문서의 실제 텍스트 내용을 저장합니다\n",
    "- metadata : 문서와 관련된 메타데이터를 딕셔너리 형태로 저장합니다\n",
    "  - source : 문서의 출처 (파일 경로 등)\n",
    "  - page : 페이지 번호\n",
    "  - created_at : 생성 시간\n",
    "  - author : 작성자\n",
    "  등 사용자가 필요한 메타데이터를 자유롭게 추가 가능합니다"
   ]
  },
  {
   "cell_type": "code",
   "execution_count": null,
   "id": "7f2e39d0",
   "metadata": {},
   "outputs": [],
   "source": [
    "from langchain.schema import Document\n",
    "\n",
    "# 기본적인 Document 객체 생성\n",
    "doc = Document(\n",
    "    page_content=\"이것은 문서의 내용입니다.\",\n",
    "    metadata={\n",
    "        \"source\": \"example.txt\", # 문서의 출처 (지금은 임의로 입력)\n",
    "        \"page\": 1, # 페이지 번호\n",
    "        \"author\": \"홍길동\", # 작성자\n",
    "        \"created_at\": \"2025-01-01\" # 생성 시간\n",
    "    }\n",
    ")\n",
    "\n",
    "# Document 객체의 속성 확인\n",
    "print(doc.__dict__)"
   ]
  },
  {
   "cell_type": "markdown",
   "id": "68b05f1e",
   "metadata": {},
   "source": [
    "## Document Loader란?\n",
    "`Document Loader`는 다양한 형식의 문서(텍스트, PDF, HTML 등)를 읽어서 LangChain의 `Document` 객체로 변환해주는 도구입니다.\n",
    " \n",
    "### 주요 특징\n",
    "- 다양한 파일 형식 지원 (txt, pdf, docx, html 등)\n",
    "- 문서의 내용을 page_content로 저장\n",
    "- 파일 경로, 생성 시간 등의 메타데이터를 자동으로 추출하여 metadata에 저장\n",
    "- 대용량 문서도 효율적으로 처리 가능\n",
    "\n",
    "### 사용 목적\n",
    "- 비정형 데이터를 LangChain이 처리할 수 있는 형태로 변환\n",
    "- 문서 데이터를 AI 모델의 입력으로 사용하기 위한 전처리\n",
    "- 문서의 구조화된 정보 추출\n",
    "\n",
    "### Loader 종류\n",
    "- TextLoader : 텍스트 파일을 로드하는 로더\n",
    "- PyPDFLoader : PDF 파일을 로드하는 로더\n",
    "- DirectoryLoader : 디렉토리를 로드하는 로더\n",
    "- WebBaseLoader : 웹 기반 문서를 로드하는 로더\n",
    "- 이외에도 다양한 타입의 로더가 제공된다.  \n",
    "    참고 : [LangchainLoader](https://python.langchain.com/api_reference/community/document_loaders.html)\n"
   ]
  },
  {
   "cell_type": "markdown",
   "id": "a5c0cfd0",
   "metadata": {},
   "source": [
    "간단하게 `.txt` 확장자를 갖는 텍스트 로더를 실습해보자"
   ]
  },
  {
   "cell_type": "code",
   "execution_count": null,
   "id": "89f420f7",
   "metadata": {},
   "outputs": [],
   "source": [
    "from langchain.document_loaders import TextLoader\n",
    "\n",
    "# TextLoader 객체 생성\n",
    "loader = TextLoader(\"data/training_log_10.txt\");\n",
    "\n",
    "# 문서 로드\n",
    "docs = loader.load();\n",
    "print(docs)"
   ]
  }
 ],
 "metadata": {
  "kernelspec": {
   "display_name": "Python 3",
   "language": "python",
   "name": "python3"
  },
  "language_info": {
   "codemirror_mode": {
    "name": "ipython",
    "version": 3
   },
   "file_extension": ".py",
   "mimetype": "text/x-python",
   "name": "python",
   "nbconvert_exporter": "python",
   "pygments_lexer": "ipython3",
   "version": "3.11.13"
  }
 },
 "nbformat": 4,
 "nbformat_minor": 5
}
