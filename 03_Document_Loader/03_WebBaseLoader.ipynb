{
 "cells": [
  {
   "cell_type": "markdown",
   "id": "f92f9524",
   "metadata": {
    "vscode": {
     "languageId": "raw"
    }
   },
   "source": [
    "# WebBaseLoader란?\n",
    "웹 페이지에서 HTML 콘텐츠를 추출하여 문서 형태로 변환하는 도구입니다\n",
    "\n",
    "### Langchain의 WebBaseLoader\n",
    "- 웹 페이지의 HTML을 자동으로 크롤링하고 텍스트를 추출합니다\n",
    "- BeautifulSoup을 기반으로 한 강력한 파싱 기능을 제공합니다\n",
    "- 다수의 URL을 동시에 처리할 수 있는 비동기 로딩을 지원합니다\n",
    "- 다양한 웹사이트 형식에 대응 가능합니다\n",
    "\n",
    "`BeautifulSoup`란?\n",
    "- Python에서 HTML과 XML 파일을 파싱하기 위한 라이브러리입니다\n",
    "- 복잡한 HTML 구조에서 원하는 데이터를 쉽게 추출할 수 있습니다"
   ]
  },
  {
   "cell_type": "code",
   "execution_count": null,
   "id": "d948022a",
   "metadata": {},
   "outputs": [],
   "source": [
    "# 필요한 라이브러리 설치\n",
    "%pip install -qU beautifulsoup4 requests"
   ]
  },
  {
   "cell_type": "code",
   "execution_count": null,
   "id": "5729544f",
   "metadata": {},
   "outputs": [],
   "source": [
    "# 실습용 URL 설정\n",
    "NEWS_URL = \"https://www.gukbangnews.com/news/articleView.html?idxno=9439\""
   ]
  },
  {
   "cell_type": "markdown",
   "id": "15bbbcc7",
   "metadata": {
    "vscode": {
     "languageId": "raw"
    }
   },
   "source": [
    "### WebBaseLoader 사용법\n",
    "- LangChain에서 제공하는 웹 페이지용 문서 로더 클래스입니다\n",
    "- URL을 입력하면 해당 페이지의 HTML을 다운로드하고 텍스트를 추출합니다\n",
    "- BeautifulSoup을 내부적으로 사용하여 HTML을 파싱합니다\n",
    "- 웹 페이지의 메타데이터(제목, 설명 등)도 함께 추출합니다\n"
   ]
  },
  {
   "cell_type": "code",
   "execution_count": null,
   "id": "fc741b20",
   "metadata": {},
   "outputs": [],
   "source": [
    "from langchain_community.document_loaders import WebBaseLoader\n",
    "\n",
    "# 단일 웹 페이지 로드\n",
    "loader = WebBaseLoader(NEWS_URL)\n",
    "\n",
    "# 문서 로드 실행\n",
    "documents = loader.load()\n",
    "\n",
    "# 문서 내용 미리보기 (처음 300자)\n",
    "print(f\"\\n문서 내용 미리보기:\")\n",
    "print(f\"{documents[0].page_content[:500]}\")\n"
   ]
  },
  {
   "cell_type": "markdown",
   "id": "50c91635",
   "metadata": {},
   "source": [
    "### WebBaseLoader와 BeautifulSoup을 이용한 특정 요소 크롤링\n",
    "웹 페이지에서 특정 HTML 요소만 추출하는 고급 크롤링 기법\n",
    "\n",
    "### BeautifulSoup kwargs 활용\n",
    "- `bs_kwargs`: BeautifulSoup 파서에 전달되는 옵션들\n",
    "- `bs_get_text_kwargs`: 텍스트 추출 시 사용되는 옵션들\n",
    "- 특정 요소만 추출하여 노이즈 제거 및 성능 향상\n",
    "\n",
    "### 특정 요소 추출의 장점:\n",
    "1. **노이즈 제거**: 광고, 네비게이션 등 불필요한 요소 제외\n",
    "2. **성능 향상**: 필요한 콘텐츠만 처리하여 속도 개선\n",
    "3. **정확도 향상**: 핵심 콘텐츠에 집중하여 품질 향상\n",
    "4. **메모리 효율성**: 불필요한 데이터 로딩 방지\n"
   ]
  },
  {
   "cell_type": "code",
   "execution_count": null,
   "id": "7d4753ba",
   "metadata": {},
   "outputs": [],
   "source": [
    "from bs4 import SoupStrainer\n",
    "\n",
    "# article-view-content-div 요소만 추출\n",
    "def load_article_content(urls):\n",
    "    loader = WebBaseLoader(\n",
    "        urls,\n",
    "        bs_kwargs={\n",
    "            \"parse_only\": SoupStrainer(id=\"article-view-content-div\")\n",
    "            }\n",
    "    )\n",
    "    \n",
    "    return loader.load()\n",
    "\n",
    "# 사용 예제\n",
    "urls = [\n",
    "    \"https://www.gukbangnews.com/news/articleView.html?idxno=9439\"\n",
    "]\n",
    "\n",
    "docs = load_article_content(urls)\n",
    "\n",
    "print(f\"로드된 문서 수: {len(docs)}\")\n",
    "print(f\"문서 : {len(docs[0].page_content)} 문자\")\n",
    "print(f\"미리보기: {docs[0].page_content[:300]}...\")"
   ]
  }
 ],
 "metadata": {
  "kernelspec": {
   "display_name": "Python 3",
   "language": "python",
   "name": "python3"
  },
  "language_info": {
   "codemirror_mode": {
    "name": "ipython",
    "version": 3
   },
   "file_extension": ".py",
   "mimetype": "text/x-python",
   "name": "python",
   "nbconvert_exporter": "python",
   "pygments_lexer": "ipython3",
   "version": "3.11.13"
  }
 },
 "nbformat": 4,
 "nbformat_minor": 5
}
